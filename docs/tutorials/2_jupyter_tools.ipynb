{
 "cells": [
  {
   "attachments": {
    "qiskit_header.png": {
     "image/png": "[encoded data removed]"
    }
   },
   "cell_type": "markdown",
   "metadata": {},
   "source": [
    "![qiskit_header.png](attachment:qiskit_header.png)"
   ]
  },
  {
   "cell_type": "markdown",
   "metadata": {},
   "source": [
    "<div class=\"alert alert-block alert-info\">\n",
    "    <b>Important:</b> This notebook uses <code>ipywidgets</code> that take advantage of the javascript interface in a web browser.  The downside is the functionality does not render well on saved notebooks.  Run this notebook locally to see the widgets in action.\n",
    "</div>"
   ]
  },
  {
   "cell_type": "markdown",
   "metadata": {},
   "source": [
    "# Qiskit Jupyter Tools\n",
    "\n",
    "Qiskit was designed to be used inside of the Jupyter notebook interface.  As such it includes many useful routines that take advantage of this platform, and make performing tasks like exploring devices and tracking job progress effortless.\n",
    "\n",
    "Loading all the qiskit Jupyter goodness is done via:"
   ]
  },
  {
   "cell_type": "code",
   "execution_count": 1,
   "metadata": {
    "ExecuteTime": {
     "end_time": "2019-08-09T15:23:33.875002Z",
     "start_time": "2019-08-09T15:23:29.481034Z"
    }
   },
   "outputs": [],
   "source": [
    "from qiskit import *\n",
    "import qiskit.providers.ibmq.jupyter  # This is the where the magic happens (literally)."
   ]
  },
  {
   "cell_type": "markdown",
   "metadata": {},
   "source": [
    "## Table of contents\n",
    "\n",
    "1) [IQX Dashboard](#dashboard)\n",
    "\n",
    "\n",
    "2) [Backend Details](#details)\n"
   ]
  },
  {
   "cell_type": "markdown",
   "metadata": {},
   "source": [
    "To start, load your IQX account information and select a provider:"
   ]
  },
  {
   "cell_type": "code",
   "execution_count": 2,
   "metadata": {
    "ExecuteTime": {
     "end_time": "2019-08-09T14:27:22.788139Z",
     "start_time": "2019-08-09T14:27:20.241689Z"
    }
   },
   "outputs": [],
   "source": [
    "IBMQ.load_account();"
   ]
  },
  {
   "cell_type": "code",
   "execution_count": 3,
   "metadata": {
    "ExecuteTime": {
     "end_time": "2019-08-09T14:27:41.857406Z",
     "start_time": "2019-08-09T14:27:41.854349Z"
    }
   },
   "outputs": [],
   "source": [
    "provider = IBMQ.get_provider(group='open')"
   ]
  },
  {
   "cell_type": "markdown",
   "metadata": {},
   "source": [
    "## IQX Dashboard <a name=\"dashboard\"></a>\n",
    "\n",
    "Perhaps the most useful Jupyter tool is the `iqx_dashboard`.  This widget consists of a `Devices` tab and a `Jobs` tab. The `Devices` tab provides an overview of all the devices you have access to. The `Jobs` tab automatically tracks and displays information for the jobs submitted in this session.\n",
    "\n",
    "To start the dashboard you run the Jupyter magic:"
   ]
  },
  {
   "cell_type": "code",
   "execution_count": 4,
   "metadata": {
    "ExecuteTime": {
     "end_time": "2019-08-09T14:26:08.275802Z",
     "start_time": "2019-08-09T14:26:08.251911Z"
    }
   },
   "outputs": [
    {
     "data": {
      "application/vnd.jupyter.widget-view+json": {
       "model_id": "",
       "version_major": 2,
       "version_minor": 0
      },
      "text/plain": [
       "AccordionWithThread(children=(Tab(children=(Box(children=(VBox(layout=Layout(height='100%', width='740px')),),…"
      ]
     },
     "metadata": {},
     "output_type": "display_data"
    },
    {
     "data": {
      "application/javascript": [
       "$('div.job_widget')\n",
       "        .detach()\n",
       "        .appendTo($('#header'))\n",
       "        .css({\n",
       "            'z-index': 999,\n",
       "             'position': 'fixed',\n",
       "            'box-shadow': '5px 5px 5px -3px black',\n",
       "            'opacity': 0.95,\n",
       "            'float': 'left,'\n",
       "        })\n",
       "        "
      ],
      "text/plain": [
       "<IPython.core.display.Javascript object>"
      ]
     },
     "metadata": {},
     "output_type": "display_data"
    }
   ],
   "source": [
    "%iqx_dashboard"
   ]
  },
  {
   "cell_type": "markdown",
   "metadata": {},
   "source": [
    "You should now see a small window titled \"IQX Dashboard\" in the upper left corner of the notebook. Click on the drop down symbol to see the two tabs. The `Devices` tab may take a few seconds to load as it needs to communicate with the server for device information. The `Jobs` tab should contain no job information as none has been submitted yet."
   ]
  },
  {
   "cell_type": "markdown",
   "metadata": {},
   "source": [
    "### Getting an Overview of Backends\n",
    "\n",
    "The `Devices` tab provides an overview of all the backends you have access to. You can use it to compare, for example, the average CNOT error rates. In addition, the number of pending jobs on the devices is continuously being updated along with the operational status."
   ]
  },
  {
   "cell_type": "markdown",
   "metadata": {},
   "source": [
    "### Automatic Job Tracking\n",
    "\n",
    "The `Jobs` tab automatically tracks and displays information for the jobs submitted in this session.\n",
    "\n",
    "Now, let's submit a job to a device to see this in action:"
   ]
  },
  {
   "cell_type": "code",
   "execution_count": 5,
   "metadata": {
    "ExecuteTime": {
     "end_time": "2019-08-09T14:28:39.111265Z",
     "start_time": "2019-08-09T14:28:37.321568Z"
    }
   },
   "outputs": [],
   "source": [
    "from qiskit.providers.ibmq import least_busy\n",
    "backend = least_busy(provider.backends(simulator=False, filters=lambda b: b.configuration().n_qubits >= 5))\n",
    "\n",
    "qc = QuantumCircuit(2, 2)\n",
    "qc.h(0)\n",
    "qc.cx(0, 1)\n",
    "qc.measure([0,1], [0,1])\n",
    "\n",
    "mapped_circuit = transpile(qc, backend=backend)\n",
    "job = backend.run(mapped_circuit, shots=1024)"
   ]
  },
  {
   "cell_type": "markdown",
   "metadata": {},
   "source": [
    "Click on the `Jobs` tab and you will see that the job has been added to the list of jobs. Its status, queue position (if any), and estimated start time are being automatically tracked and updated. If the job is running, the scheduling mode for the job is also displayed. For example, if the job status is `RUNNING[F]`, that means the job is actively running and was scheduled using a fair-share algorithm. The button to the left of a job ID allows you to cancel the job. \n",
    "\n",
    "If you want to kill the dashboard you can do so by calling:"
   ]
  },
  {
   "cell_type": "code",
   "execution_count": 6,
   "metadata": {
    "ExecuteTime": {
     "end_time": "2019-08-09T14:31:46.991455Z",
     "start_time": "2019-08-09T14:31:46.988055Z"
    }
   },
   "outputs": [],
   "source": [
    "%disable_ibmq_dashboard"
   ]
  },
  {
   "cell_type": "markdown",
   "metadata": {},
   "source": [
    "Although the dashboard itself is killed, the underlying framework is still tracking jobs for you and will show this information if loaded once again."
   ]
  },
  {
   "cell_type": "markdown",
   "metadata": {},
   "source": [
    "## Viewing Backend Details <a name=\"details\"></a>\n",
    "\n",
    "The IBM Quantum devices contain a large amount of configuration data and properties.  This information can be retrieved by calling:"
   ]
  },
  {
   "cell_type": "code",
   "execution_count": 7,
   "metadata": {
    "ExecuteTime": {
     "end_time": "2019-08-09T14:33:10.432853Z",
     "start_time": "2019-08-09T14:33:10.429483Z"
    }
   },
   "outputs": [],
   "source": [
    "config = backend.configuration()\n",
    "params = backend.properties()"
   ]
  },
  {
   "cell_type": "markdown",
   "metadata": {},
   "source": [
    "However, parsing through this information quickly becomes tedious.  Instead, all the information for a single backend can be displayed graphically by just calling the backend instance itself:"
   ]
  },
  {
   "cell_type": "code",
   "execution_count": 8,
   "metadata": {
    "ExecuteTime": {
     "end_time": "2019-08-09T14:34:40.067963Z",
     "start_time": "2019-08-09T14:34:39.397926Z"
    }
   },
   "outputs": [
    {
     "data": {
      "application/vnd.jupyter.widget-view+json": {
       "model_id": "a831681d7c7043daabd8c285218d9e8c",
       "version_major": 2,
       "version_minor": 0
      },
      "text/plain": [
       "Card(children=[Toolbar(children=[ToolbarTitle(children=['ibmq_belem @ (ibm-q/open/main)'], style_='color:whi…"
      ]
     },
     "metadata": {},
     "output_type": "display_data"
    },
    {
     "data": {
      "text/plain": [
       "<IBMQBackend('ibmq_belem') from IBMQ(hub='ibm-q', group='open', project='main')>"
      ]
     },
     "execution_count": 8,
     "metadata": {},
     "output_type": "execute_result"
    }
   ],
   "source": [
    "backend"
   ]
  },
  {
   "cell_type": "markdown",
   "metadata": {},
   "source": [
    "This widget displays all the information about a backend in a single tabbed-window."
   ]
  },
  {
   "cell_type": "code",
   "execution_count": 9,
   "metadata": {
    "ExecuteTime": {
     "end_time": "2019-08-09T14:39:13.642631Z",
     "start_time": "2019-08-09T14:39:13.635119Z"
    }
   },
   "outputs": [
    {
     "data": {
      "text/html": [
        "<h3>Version Information</h3><table><tr><th>Qiskit Software</th><th>Version</th></tr><tr><td>Qiskit</td><td>0.27.0</td></tr><tr><td>Terra</td><td>0.17.4</td></tr><tr><td>Aer</td><td>0.8.2</td></tr><tr><td>Ignis</td><td>0.6.0</td></tr><tr><td>Aqua</td><td>0.9.2</td></tr><tr><td>IBM Q Provider</td><td>0.14.0</td></tr><tr><th>System information</th></tr><tr><td>Python</td><td>3.8.10 | packaged by conda-forge | (default, May 11 2021, 07:01:05) \n",
        "[GCC 9.3.0]</td></tr><tr><td>OS</td><td>Linux</td></tr><tr><td>CPUs</td><td>8</td></tr><tr><td>Memory (Gb)</td><td>31.40896224975586</td></tr><tr><td colspan='2'>Thu Jul 08 16:31:08 2021 UTC</td></tr></table>"
      ],
      "text/plain": [
       "<IPython.core.display.HTML object>"
      ]
     },
     "metadata": {},
     "output_type": "display_data"
    },
    {
     "data": {
      "text/html": [
       "<div style='width: 100%; background-color:#d5d9e0;padding-left: 10px; padding-bottom: 10px; padding-right: 10px; padding-top: 5px'><h3>This code is a part of Qiskit</h3><p>&copy; Copyright IBM 2017, 2020.</p><p>This code is licensed under the Apache License, Version 2.0. You may<br>obtain a copy of this license in the LICENSE.txt file in the root directory<br> of this source tree or at http://www.apache.org/licenses/LICENSE-2.0.<p>Any modifications or derivative works of this code must retain this<br>copyright notice, and modified files need to carry a notice indicating<br>that they have been altered from the originals.</p></div>"
      ],
      "text/plain": [
       "<IPython.core.display.HTML object>"
      ]
     },
     "metadata": {},
     "output_type": "display_data"
    }
   ],
   "source": [
    "import qiskit.tools.jupyter\n",
    "%qiskit_version_table\n",
    "%qiskit_copyright"
   ]
  },
  {
   "cell_type": "code",
   "execution_count": null,
   "metadata": {},
   "outputs": [],
   "source": []
  }
 ],
 "metadata": {
  "kernelspec": {
   "display_name": "Python 3",
   "language": "python",
   "name": "python3"
  },
  "language_info": {
   "codemirror_mode": {
    "name": "ipython",
    "version": 3
   },
   "file_extension": ".py",
   "mimetype": "text/x-python",
   "name": "python",
   "nbconvert_exporter": "python",
   "pygments_lexer": "ipython3",
   "version": "3.8.1"
  },
  "varInspector": {
   "cols": {
    "lenName": 16,
    "lenType": 16,
    "lenVar": 40
   },
   "kernels_config": {
    "python": {
     "delete_cmd_postfix": "",
     "delete_cmd_prefix": "del ",
     "library": "var_list.py",
     "varRefreshCmd": "print(var_dic_list())"
    },
    "r": {
     "delete_cmd_postfix": ") ",
     "delete_cmd_prefix": "rm(",
     "library": "var_list.r",
     "varRefreshCmd": "cat(var_dic_list()) "
    }
   },
   "types_to_exclude": [
    "module",
    "function",
    "builtin_function_or_method",
    "instance",
    "_Feature"
   ],
   "window_display": false
  },
  "widgets": {
   "application/vnd.jupyter.widget-state+json": {
    "state": {
     "0026e96a804d47ea8e71448dae07d3b9": {
      "model_module": "@jupyter-widgets/base",
      "model_module_version": "1.2.0",
      "model_name": "LayoutModel",
      "state": {}
     },
     "03187d5077254d1f966fdb38123b40df": {
      "model_module": "@jupyter-widgets/base",
      "model_module_version": "1.2.0",
      "model_name": "LayoutModel",
      "state": {
       "width": "70px"
      }
     },
     "036b55c5fa2348a6a841063050a9bcca": {
      "model_module": "@jupyter-widgets/controls",
      "model_module_version": "1.5.0",
      "model_name": "ButtonStyleModel",
      "state": {
       "button_color": "white"
      }
     },
     "070147f0922340d0ac6fc05607680ddc": {
      "model_module": "@jupyter-widgets/base",
      "model_module_version": "1.2.0",
      "model_name": "LayoutModel",
      "state": {
       "max_width": "710px",
       "min_width": "710px"
      }
     },
     "07910f72ebcc43edb38c8b0905d92cde": {
      "model_module": "@jupyter-widgets/base",
      "model_module_version": "1.2.0",
      "model_name": "LayoutModel",
      "state": {
       "width": "95px"
      }
     },
     "10161a5f45d044f1a1d7ccef15c7f7d4": {
      "model_module": "@jupyter-widgets/controls",
      "model_module_version": "1.5.0",
      "model_name": "HBoxModel",
      "state": {
       "children": [
        "IPY_MODEL_2e989f15ee9344e8aa0ad1310a2bb6b5",
        "IPY_MODEL_5c615aa956fc493fb2c947185784d1f8",
        "IPY_MODEL_eff5911361da43c4859ca2807456fc5d",
        "IPY_MODEL_63b42d3037dc44248ecf64cfc8702517",
        "IPY_MODEL_99431b1ac34d428fa70e410789a9a5b6"
       ],
       "layout": "IPY_MODEL_dbbee07d07a14f419233b95a085daf98"
      }
     },
     "1ac8af0f24044d90b0dcd08b08a1cb18": {
      "model_module": "@jupyter-widgets/controls",
      "model_module_version": "1.5.0",
      "model_name": "GridBoxModel",
      "state": {
       "children": [
        "IPY_MODEL_c1237b1615ed482faf44ccc69b7843ff",
        "IPY_MODEL_ce5568d789dd41f495ea23f5c5687156",
        "IPY_MODEL_40a581e9f0c54d1ab2d5915b80ea1cd6"
       ],
       "layout": "IPY_MODEL_a1581181b7d64c6fbce466bc733577fb"
      }
     },
     "1c1e2dfd781b414c833ae06e80b0691a": {
      "model_module": "@jupyter-widgets/base",
      "model_module_version": "1.2.0",
      "model_name": "LayoutModel",
      "state": {
       "grid_gap": "0px 0px",
       "grid_template_areas": "\n                                                   \"top top top\"\n                                                   \"left middle right\"\n                                                   ",
       "grid_template_columns": "33% 33% 33%",
       "grid_template_rows": "auto auto"
      }
     },
     "24280335f6e94ef2b67aebe0ac62217a": {
      "model_module": "@jupyter-widgets/base",
      "model_module_version": "1.2.0",
      "model_name": "LayoutModel",
      "state": {
       "grid_area": "right"
      }
     },
     "24d62679b4bf4e12853fce863379f446": {
      "model_module": "@jupyter-widgets/base",
      "model_module_version": "1.2.0",
      "model_name": "LayoutModel",
      "state": {
       "width": "70px"
      }
     },
     "2cf403df3a0648f3a49bddbe4efd3b82": {
      "model_module": "@jupyter-widgets/controls",
      "model_module_version": "1.5.0",
      "model_name": "HTMLModel",
      "state": {
       "layout": "IPY_MODEL_e0b06be4697646288e4dc53f527d9a15",
       "style": "IPY_MODEL_fb81d28592764b79842a0fbdc3589b5e",
       "value": "<h1 style='color:#ffffff;background-color:#000000;padding-top: 1%;padding-bottom: 1%;padding-left: 1%; margin-top: 0px'>ibmq_essex</h1>"
      }
     },
     "2e84ad3c674341c4a529a1a8cf86cea6": {
      "model_module": "@jupyter-widgets/controls",
      "model_module_version": "1.5.0",
      "model_name": "DescriptionStyleModel",
      "state": {
       "description_width": ""
      }
     },
     "2e92ec55818047c3b345704513371328": {
      "model_module": "@jupyter-widgets/controls",
      "model_module_version": "1.5.0",
      "model_name": "DescriptionStyleModel",
      "state": {
       "description_width": ""
      }
     },
     "2e989f15ee9344e8aa0ad1310a2bb6b5": {
      "model_module": "@jupyter-widgets/controls",
      "model_module_version": "1.5.0",
      "model_name": "HTMLModel",
      "state": {
       "layout": "IPY_MODEL_d440771d473e4c8a9d595f12295b1302",
       "style": "IPY_MODEL_7f703cc73c5042cea8744a8e4951e0c8",
       "value": "<h5>Job ID</h5>"
      }
     },
     "32a83be37e6746079a55f57e144224b1": {
      "model_module": "@jupyter-widgets/controls",
      "model_module_version": "1.5.0",
      "model_name": "GridBoxModel",
      "state": {
       "children": [
        "IPY_MODEL_bc049b10de5a494eb150c9fd67a4b627"
       ],
       "layout": "IPY_MODEL_c549ac59f3134a329b0af89d3b71f2e4"
      }
     },
     "336044788c954071a082c0eaa046389f": {
      "model_module": "@jupyter-widgets/controls",
      "model_module_version": "1.5.0",
      "model_name": "ButtonModel",
      "state": {
       "icon": "close",
       "layout": "IPY_MODEL_83b44df40fc44787b3393b62b9eb272f",
       "style": "IPY_MODEL_036b55c5fa2348a6a841063050a9bcca"
      }
     },
     "39139e3a62734dd9a1f742fb2949bf51": {
      "model_module": "@jupyter-widgets/controls",
      "model_module_version": "1.5.0",
      "model_name": "HBoxModel",
      "state": {
       "children": [
        "IPY_MODEL_336044788c954071a082c0eaa046389f",
        "IPY_MODEL_f3aa1f77561d4f8e9518ec09bf6f906a",
        "IPY_MODEL_4189361224cc42aa8f2171774a8256e2",
        "IPY_MODEL_862b726b709a4bc2a61c9c40f35474a9",
        "IPY_MODEL_d6fd1906459d42f6aa08c2687a1adfd4",
        "IPY_MODEL_3b43af97a85c4d01adae3c5cd477053c"
       ],
       "layout": "IPY_MODEL_944a5fd072334fc395858a86641ce69c"
      }
     },
     "3a13766239cd47f4bb6bb45a8e8c5756": {
      "model_module": "@jupyter-widgets/base",
      "model_module_version": "1.2.0",
      "model_name": "LayoutModel",
      "state": {
       "grid_area": "top"
      }
     },
     "3ad9d0eb44e946edb2e54e2598c64a36": {
      "model_module": "@jupyter-widgets/base",
      "model_module_version": "1.2.0",
      "model_name": "LayoutModel",
      "state": {
       "width": "145px"
      }
     },
     "3b43af97a85c4d01adae3c5cd477053c": {
      "model_module": "@jupyter-widgets/controls",
      "model_module_version": "1.5.0",
      "model_name": "HTMLModel",
      "state": {
       "layout": "IPY_MODEL_af090e2f3dfc429fb51cf234d3516785",
       "style": "IPY_MODEL_d8d30aac555e45ad8637a883d6591087",
       "value": "job is queued"
      }
     },
     "40a581e9f0c54d1ab2d5915b80ea1cd6": {
      "model_module": "@jupyter-widgets/controls",
      "model_module_version": "1.5.0",
      "model_name": "HTMLMathModel",
      "state": {
       "layout": "IPY_MODEL_af03e372134b453b8d63c70b678f4114",
       "style": "IPY_MODEL_61eb2352812847a097d9d7f0a3a93395",
       "value": "<table><style>\ntable {\n    border-collapse: collapse;\n    width: auto;\n}\n\nth, td {\n    text-align: left;\n    padding: 8px;\n}\n\ntr:nth-child(even) {background-color: #f6f6f6;}\n</style><tr><th></th><th></th></tr><tr><td>credits_required</td><td>True</td></tr><tr><td>allow_object_storage</td><td>True</td></tr><tr><td>memory</td><td>True</td></tr><tr><td>local</td><td>False</td></tr><tr><td>allow_q_object</td><td>True</td></tr><tr><td>online_date</td><td>2019-09-13T04:00:00+00:00</td></tr><tr><td>description</td><td>5 qubit device Essex</td></tr><tr><td>conditional</td><td>False</td></tr><tr><td>n_registers</td><td>1</td></tr><tr><td>quantum_volume</td><td>None</td></tr><tr><td>url</td><td>None</td></tr><tr><td>coupling_map</td><td>[[0, 1], [1, 0], [1, 2], [1, 3], [2, 1], [3, 1], [3, 4], [4, 3]]</td></tr><tr><td>allow_q_circuit</td><td>False</td></tr><tr><td>sample_name</td><td>Giraffe</td></tr><tr><td>simulator</td><td>False</td></tr><tr><td>open_pulse</td><td>False</td></tr><tr><td>backend_name</td><td>ibmq_essex</td></tr></table>"
      }
     },
     "4189361224cc42aa8f2171774a8256e2": {
      "model_module": "@jupyter-widgets/controls",
      "model_module_version": "1.5.0",
      "model_name": "HTMLModel",
      "state": {
       "layout": "IPY_MODEL_3ad9d0eb44e946edb2e54e2598c64a36",
       "style": "IPY_MODEL_9d621898e4f04a0caaa0fcc5ff030f63",
       "value": "ibmq_essex"
      }
     },
     "5062aad91ab24646a8d4e1aa15999b31": {
      "model_module": "@jupyter-widgets/controls",
      "model_module_version": "1.5.0",
      "model_name": "DescriptionStyleModel",
      "state": {
       "description_width": ""
      }
     },
     "5362aec3f7f345688517574d9fcd1354": {
      "model_module": "@jupyter-widgets/base",
      "model_module_version": "1.2.0",
      "model_name": "LayoutModel",
      "state": {}
     },
     "53d8cf9e66084e08923f8afdd4b3c630": {
      "model_module": "@jupyter-widgets/controls",
      "model_module_version": "1.5.0",
      "model_name": "DescriptionStyleModel",
      "state": {
       "description_width": ""
      }
     },
     "57d00e4cdd274202a8c64be4dac96890": {
      "model_module": "@jupyter-widgets/controls",
      "model_module_version": "1.5.0",
      "model_name": "HTMLModel",
      "state": {
       "layout": "IPY_MODEL_e055d89ead8947c59071023f55496535",
       "style": "IPY_MODEL_e85a88503db641f99ec28390534be42c",
       "value": "<table><style>\ntable {\n    border-collapse: collapse;\n    width: auto;\n}\n\nth, td {\n    text-align: left;\n    padding: 8px;\n}\n\ntr:nth-child(even) {background-color: #f6f6f6;};\n</style><tr><th></th><th>Type</th><th>Gate error</th></tr><tr><td><font style='font-weight:bold'>cx0_1</font></td><td>cx</td><td>0.00941</td></tr><tr><td><font style='font-weight:bold'>cx1_0</font></td><td>cx</td><td>0.00941</td></tr><tr><td><font style='font-weight:bold'>cx1_2</font></td><td>cx</td><td>0.01544</td></tr></table>"
      }
     },
     "584d249f0a6645e184e213f963cd7ae4": {
      "model_module": "@jupyter-widgets/controls",
      "model_module_version": "1.5.0",
      "model_name": "DescriptionStyleModel",
      "state": {
       "description_width": ""
      }
     },
     "5c615aa956fc493fb2c947185784d1f8": {
      "model_module": "@jupyter-widgets/controls",
      "model_module_version": "1.5.0",
      "model_name": "HTMLModel",
      "state": {
       "layout": "IPY_MODEL_ac2e8d2a2c064e1ea110ba6af3c8286e",
       "style": "IPY_MODEL_73665a1e4cc2413aaf89721afac099d4",
       "value": "<h5>Backend</h5>"
      }
     },
     "5e03e3f09164416eb1e435799f843a74": {
      "model_module": "@jupyter-widgets/base",
      "model_module_version": "1.2.0",
      "model_name": "LayoutModel",
      "state": {
       "grid_area": "left",
       "width": "100%"
      }
     },
     "61eb2352812847a097d9d7f0a3a93395": {
      "model_module": "@jupyter-widgets/controls",
      "model_module_version": "1.5.0",
      "model_name": "DescriptionStyleModel",
      "state": {
       "description_width": ""
      }
     },
     "635828032c0a4c92aeda5ab6b2146ded": {
      "model_module": "@jupyter-widgets/controls",
      "model_module_version": "1.5.0",
      "model_name": "DescriptionStyleModel",
      "state": {
       "description_width": ""
      }
     },
     "63b42d3037dc44248ecf64cfc8702517": {
      "model_module": "@jupyter-widgets/controls",
      "model_module_version": "1.5.0",
      "model_name": "HTMLModel",
      "state": {
       "layout": "IPY_MODEL_03187d5077254d1f966fdb38123b40df",
       "style": "IPY_MODEL_97ca307b7c2042c9af924bd1a945b107",
       "value": "<h5>Queue</h5>"
      }
     },
     "68e846c3e72b4200bc8e62d48cb349df": {
      "model_module": "@jupyter-widgets/base",
      "model_module_version": "1.2.0",
      "model_name": "LayoutModel",
      "state": {
       "border": "4px solid #000000",
       "max_height": "650px",
       "min_height": "650px",
       "overflow_y": "hidden"
      }
     },
     "6c4d7bf8aa5045e481c0a46669b1fc81": {
      "model_module": "@jupyter-widgets/controls",
      "model_module_version": "1.5.0",
      "model_name": "GridBoxModel",
      "state": {
       "children": [
        "IPY_MODEL_7547cda3f10744dcb6cfa01b78cb59c5",
        "IPY_MODEL_57d00e4cdd274202a8c64be4dac96890",
        "IPY_MODEL_9fec57399f4641c38c987f3850edef1d",
        "IPY_MODEL_888e17bbc9484927ba0e53f3ab74cd4f"
       ],
       "layout": "IPY_MODEL_1c1e2dfd781b414c833ae06e80b0691a"
      }
     },
     "73665a1e4cc2413aaf89721afac099d4": {
      "model_module": "@jupyter-widgets/controls",
      "model_module_version": "1.5.0",
      "model_name": "DescriptionStyleModel",
      "state": {
       "description_width": ""
      }
     },
     "73dba27627bd46948fadd49cab3ca5e3": {
      "model_module": "@jupyter-widgets/controls",
      "model_module_version": "1.5.0",
      "model_name": "TabModel",
      "state": {
       "layout": "IPY_MODEL_a47a48c7c0e34347ab4d649f765fd4e9"
      }
     },
     "7547cda3f10744dcb6cfa01b78cb59c5": {
      "model_module": "@jupyter-widgets/controls",
      "model_module_version": "1.5.0",
      "model_name": "HTMLModel",
      "state": {
       "layout": "IPY_MODEL_3a13766239cd47f4bb6bb45a8e8c5756",
       "style": "IPY_MODEL_84e0fc0cd13548bfad1766861c55acb5",
       "value": "<div><font style='font-weight:bold'>last_update_date</font>: 2019-12-10T08:47:32+00:00</div>"
      }
     },
     "754e7984667c4957a0a63d894faab3a6": {
      "model_module": "@jupyter-widgets/controls",
      "model_module_version": "1.5.0",
      "model_name": "VBoxModel",
      "state": {
       "children": [
        "IPY_MODEL_32a83be37e6746079a55f57e144224b1",
        "IPY_MODEL_10161a5f45d044f1a1d7ccef15c7f7d4",
        "IPY_MODEL_39139e3a62734dd9a1f742fb2949bf51"
       ],
       "layout": "IPY_MODEL_070147f0922340d0ac6fc05607680ddc"
      }
     },
     "79224dc8c52f4bd2a12b1102f3d04dee": {
      "model_module": "@jupyter-widgets/base",
      "model_module_version": "1.2.0",
      "model_name": "LayoutModel",
      "state": {}
     },
     "793891a44b2f4bc995e1e72091107e52": {
      "model_module": "@jupyter-widgets/controls",
      "model_module_version": "1.5.0",
      "model_name": "VBoxModel",
      "state": {
       "children": [
        "IPY_MODEL_2cf403df3a0648f3a49bddbe4efd3b82",
        "IPY_MODEL_93e3f806446e48bca2f5fcadaa82f4a9"
       ],
       "layout": "IPY_MODEL_68e846c3e72b4200bc8e62d48cb349df"
      }
     },
     "7f703cc73c5042cea8744a8e4951e0c8": {
      "model_module": "@jupyter-widgets/controls",
      "model_module_version": "1.5.0",
      "model_name": "DescriptionStyleModel",
      "state": {
       "description_width": ""
      }
     },
     "83b44df40fc44787b3393b62b9eb272f": {
      "model_module": "@jupyter-widgets/base",
      "model_module_version": "1.2.0",
      "model_name": "LayoutModel",
      "state": {
       "margin": "0px 5px 0px 0px",
       "width": "30px"
      }
     },
     "84e0fc0cd13548bfad1766861c55acb5": {
      "model_module": "@jupyter-widgets/controls",
      "model_module_version": "1.5.0",
      "model_name": "DescriptionStyleModel",
      "state": {
       "description_width": ""
      }
     },
     "862b726b709a4bc2a61c9c40f35474a9": {
      "model_module": "@jupyter-widgets/controls",
      "model_module_version": "1.5.0",
      "model_name": "HTMLModel",
      "state": {
       "layout": "IPY_MODEL_07910f72ebcc43edb38c8b0905d92cde",
       "style": "IPY_MODEL_53d8cf9e66084e08923f8afdd4b3c630",
       "value": "QUEUED"
      }
     },
     "888e17bbc9484927ba0e53f3ab74cd4f": {
      "model_module": "@jupyter-widgets/controls",
      "model_module_version": "1.5.0",
      "model_name": "HTMLModel",
      "state": {
       "layout": "IPY_MODEL_24280335f6e94ef2b67aebe0ac62217a",
       "style": "IPY_MODEL_635828032c0a4c92aeda5ab6b2146ded",
       "value": "<table><style>\ntable {\n    border-collapse: collapse;\n    width: auto;\n}\n\nth, td {\n    text-align: left;\n    padding: 8px;\n}\n\ntr:nth-child(even) {background-color: #f6f6f6;};\n</style><tr><th></th><th>Type</th><th>Gate error</th></tr><tr><td><font style='font-weight:bold'>cx3_4</font></td><td>cx</td><td>0.01118</td></tr><tr><td><font style='font-weight:bold'>cx4_3</font></td><td>cx</td><td>0.01118</td></tr></table>"
      }
     },
     "8fcabc865c5f418e8347c2523270d888": {
      "model_module": "@jupyter-widgets/base",
      "model_module_version": "1.2.0",
      "model_name": "LayoutModel",
      "state": {
       "width": "95px"
      }
     },
     "9102c0e4e5cd42849d914ab60eaf936a": {
      "model_module": "@jupyter-widgets/controls",
      "model_module_version": "1.5.0",
      "model_name": "DescriptionStyleModel",
      "state": {
       "description_width": ""
      }
     },
     "91ea59d3c04f46c3b7f2fe5ec4b99db3": {
      "model_module": "@jupyter-widgets/base",
      "model_module_version": "1.2.0",
      "model_name": "LayoutModel",
      "state": {}
     },
     "93d78410dff14bc1b77e6270d17448b6": {
      "model_module": "@jupyter-widgets/controls",
      "model_module_version": "1.5.0",
      "model_name": "VBoxModel",
      "state": {
       "children": [
        "IPY_MODEL_a48dfbe4afd64d73ad2cd73bca35ee77",
        "IPY_MODEL_bbed2375295f4d808443980116ceafae"
       ],
       "layout": "IPY_MODEL_79224dc8c52f4bd2a12b1102f3d04dee"
      }
     },
     "93e3f806446e48bca2f5fcadaa82f4a9": {
      "model_module": "@jupyter-widgets/controls",
      "model_module_version": "1.5.0",
      "model_name": "TabModel",
      "state": {
       "_titles": {
        "0": "Configuration",
        "1": "Qubit Properties",
        "2": "Multi-Qubit Gates",
        "3": "Error Map",
        "4": "Job History"
       },
       "children": [
        "IPY_MODEL_1ac8af0f24044d90b0dcd08b08a1cb18",
        "IPY_MODEL_93d78410dff14bc1b77e6270d17448b6",
        "IPY_MODEL_6c4d7bf8aa5045e481c0a46669b1fc81",
        "IPY_MODEL_f157551f44d149b59a0a350d0ea7cdbf",
        "IPY_MODEL_73dba27627bd46948fadd49cab3ca5e3"
       ],
       "layout": "IPY_MODEL_a90b63cdb3de4d79a34e12b79a11dceb"
      }
     },
     "944a5fd072334fc395858a86641ce69c": {
      "model_module": "@jupyter-widgets/base",
      "model_module_version": "1.2.0",
      "model_name": "LayoutModel",
      "state": {
       "max_width": "700px",
       "min_width": "700px"
      }
     },
     "97ca307b7c2042c9af924bd1a945b107": {
      "model_module": "@jupyter-widgets/controls",
      "model_module_version": "1.5.0",
      "model_name": "DescriptionStyleModel",
      "state": {
       "description_width": ""
      }
     },
     "99431b1ac34d428fa70e410789a9a5b6": {
      "model_module": "@jupyter-widgets/controls",
      "model_module_version": "1.5.0",
      "model_name": "HTMLModel",
      "state": {
       "layout": "IPY_MODEL_0026e96a804d47ea8e71448dae07d3b9",
       "style": "IPY_MODEL_ae1035b26aec4d15b1cc60a94bb8f093",
       "value": "<h5>Message</h5>"
      }
     },
     "9d621898e4f04a0caaa0fcc5ff030f63": {
      "model_module": "@jupyter-widgets/controls",
      "model_module_version": "1.5.0",
      "model_name": "DescriptionStyleModel",
      "state": {
       "description_width": ""
      }
     },
     "9fec57399f4641c38c987f3850edef1d": {
      "model_module": "@jupyter-widgets/controls",
      "model_module_version": "1.5.0",
      "model_name": "HTMLModel",
      "state": {
       "layout": "IPY_MODEL_b45ee61cfc894d13a96e03e4973b38b4",
       "style": "IPY_MODEL_2e92ec55818047c3b345704513371328",
       "value": "<table><style>\ntable {\n    border-collapse: collapse;\n    width: auto;\n}\n\nth, td {\n    text-align: left;\n    padding: 8px;\n}\n\ntr:nth-child(even) {background-color: #f6f6f6;};\n</style><tr><th></th><th>Type</th><th>Gate error</th></tr><tr><td><font style='font-weight:bold'>cx1_3</font></td><td>cx</td><td>0.01238</td></tr><tr><td><font style='font-weight:bold'>cx2_1</font></td><td>cx</td><td>0.01544</td></tr><tr><td><font style='font-weight:bold'>cx3_1</font></td><td>cx</td><td>0.01238</td></tr></table>"
      }
     },
     "a1581181b7d64c6fbce466bc733577fb": {
      "model_module": "@jupyter-widgets/base",
      "model_module_version": "1.2.0",
      "model_name": "LayoutModel",
      "state": {
       "grid_gap": "0px 0px",
       "grid_template_areas": "\n                               \"left right right right\"\n                               \"bottom bottom bottom bottom\"\n                               ",
       "grid_template_columns": "31% 23% 23% 23%",
       "grid_template_rows": "auto auto"
      }
     },
     "a47a48c7c0e34347ab4d649f765fd4e9": {
      "model_module": "@jupyter-widgets/base",
      "model_module_version": "1.2.0",
      "model_name": "LayoutModel",
      "state": {
       "max_height": "620px"
      }
     },
     "a48dfbe4afd64d73ad2cd73bca35ee77": {
      "model_module": "@jupyter-widgets/controls",
      "model_module_version": "1.5.0",
      "model_name": "HTMLModel",
      "state": {
       "layout": "IPY_MODEL_5362aec3f7f345688517574d9fcd1354",
       "style": "IPY_MODEL_5062aad91ab24646a8d4e1aa15999b31",
       "value": "<div><font style='font-weight:bold'>last_update_date</font>: 2019-12-10T08:47:32+00:00</div>"
      }
     },
     "a56b69e99f274b9faff2f7216e44f04f": {
      "model_module": "@jupyter-widgets/controls",
      "model_module_version": "1.5.0",
      "model_name": "DescriptionStyleModel",
      "state": {
       "description_width": ""
      }
     },
     "a90b63cdb3de4d79a34e12b79a11dceb": {
      "model_module": "@jupyter-widgets/base",
      "model_module_version": "1.2.0",
      "model_name": "LayoutModel",
      "state": {
       "overflow_y": "scroll"
      }
     },
     "ac2e8d2a2c064e1ea110ba6af3c8286e": {
      "model_module": "@jupyter-widgets/base",
      "model_module_version": "1.2.0",
      "model_name": "LayoutModel",
      "state": {
       "width": "145px"
      }
     },
     "ae1035b26aec4d15b1cc60a94bb8f093": {
      "model_module": "@jupyter-widgets/controls",
      "model_module_version": "1.5.0",
      "model_name": "DescriptionStyleModel",
      "state": {
       "description_width": ""
      }
     },
     "af03e372134b453b8d63c70b678f4114": {
      "model_module": "@jupyter-widgets/base",
      "model_module_version": "1.2.0",
      "model_name": "LayoutModel",
      "state": {
       "grid_area": "bottom",
       "width": "auto"
      }
     },
     "af090e2f3dfc429fb51cf234d3516785": {
      "model_module": "@jupyter-widgets/base",
      "model_module_version": "1.2.0",
      "model_name": "LayoutModel",
      "state": {
       "overflow_x": "scroll"
      }
     },
     "b2a7b79eae694e8d8f02942406ef82a7": {
      "model_module": "@jupyter-widgets/base",
      "model_module_version": "1.2.0",
      "model_name": "LayoutModel",
      "state": {
       "max_height": "500px",
       "max_width": "750px",
       "overflow_x": "hidden",
       "overflow_y": "scroll",
       "visibility": "visible",
       "width": "auto"
      }
     },
     "b45ee61cfc894d13a96e03e4973b38b4": {
      "model_module": "@jupyter-widgets/base",
      "model_module_version": "1.2.0",
      "model_name": "LayoutModel",
      "state": {
       "grid_area": "middle"
      }
     },
     "b63d67e1f6fb445c8a197aa8d6768ccc": {
      "model_module": "@jupyter-widgets/controls",
      "model_module_version": "1.5.0",
      "model_name": "DescriptionStyleModel",
      "state": {
       "description_width": ""
      }
     },
     "bbed2375295f4d808443980116ceafae": {
      "model_module": "@jupyter-widgets/controls",
      "model_module_version": "1.5.0",
      "model_name": "HTMLModel",
      "state": {
       "layout": "IPY_MODEL_91ea59d3c04f46c3b7f2fe5ec4b99db3",
       "style": "IPY_MODEL_9102c0e4e5cd42849d914ab60eaf936a",
       "value": "<table><style>\ntable {\n    border-collapse: collapse;\n    width: auto;\n}\n\nth, td {\n    text-align: left;\n    padding: 8px;\n}\n\ntr:nth-child(even) {background-color: #f6f6f6;}\n</style><tr><th></th><th>Frequency</th><th>T1</th><th>T2</th><th>U1 gate error</th><th>U2 gate error</th><th>U3 gate error</th><th>Readout error</th></tr><tr><td><font style='font-weight:bold'>Q0</font></td><td>4.49979 GHz</td><td>142.46473 µs</td><td>176.60083 µs</td><td>0.0</td><td>0.00041</td><td>0.00081</td><td>0.04</td></tr><tr><td><font style='font-weight:bold'>Q1</font></td><td>4.69465 GHz</td><td>65.20439 µs</td><td>95.99192 µs</td><td>0.0</td><td>0.00045</td><td>0.0009</td><td>0.18</td></tr><tr><td><font style='font-weight:bold'>Q2</font></td><td>4.66333 GHz</td><td>75.01397 µs</td><td>156.02907 µs</td><td>0.0</td><td>0.00076</td><td>0.00152</td><td>0.035</td></tr><tr><td><font style='font-weight:bold'>Q3</font></td><td>4.65377 GHz</td><td>121.28133 µs</td><td>142.73821 µs</td><td>0.0</td><td>0.00071</td><td>0.00141</td><td>0.03667</td></tr><tr><td><font style='font-weight:bold'>Q4</font></td><td>4.61094 GHz</td><td>104.06955 µs</td><td>147.21788 µs</td><td>0.0</td><td>0.0005</td><td>0.001</td><td>0.09167</td></tr></table>"
      }
     },
     "bc049b10de5a494eb150c9fd67a4b627": {
      "model_module": "@jupyter-widgets/controls",
      "model_module_version": "1.5.0",
      "model_name": "ButtonModel",
      "state": {
       "button_style": "primary",
       "description": "Clear",
       "layout": "IPY_MODEL_c8686e59c2214bf188eae227f86a78f2",
       "style": "IPY_MODEL_fc17a6e739834f78a44e5c70b9346d90"
      }
     },
     "c1237b1615ed482faf44ccc69b7843ff": {
      "model_module": "@jupyter-widgets/controls",
      "model_module_version": "1.5.0",
      "model_name": "HTMLMathModel",
      "state": {
       "layout": "IPY_MODEL_5e03e3f09164416eb1e435799f843a74",
       "style": "IPY_MODEL_a56b69e99f274b9faff2f7216e44f04f",
       "value": "<table><style>\ntable {\n    border-collapse: collapse;\n    width: auto;\n}\n\nth, td {\n    text-align: left;\n    padding: 8px;\n}\n\ntr:nth-child(even) {background-color: #f6f6f6;}\n</style><tr><th>Property</th><th>Value</th></tr><tr><td><font style='font-weight:bold'>n_qubits</font></td><td>5</td></tr><tr><td><font style='font-weight:bold'>operational</font></td><td>True</td></tr><tr><td><font style='font-weight:bold'>status_msg</font></td><td>active</td></tr><tr><td><font style='font-weight:bold'>pending_jobs</font></td><td>9</td></tr><tr><td><font style='font-weight:bold'>backend_version</font></td><td>1.0.1</td></tr><tr><td><font style='font-weight:bold'>basis_gates</font></td><td>['u1', 'u2', 'u3', 'cx', 'id']</td></tr><tr><td><font style='font-weight:bold'>max_shots</font></td><td>8192</td></tr><tr><td><font style='font-weight:bold'>max_experiments</font></td><td>75</td></tr></table>"
      }
     },
     "c549ac59f3134a329b0af89d3b71f2e4": {
      "model_module": "@jupyter-widgets/base",
      "model_module_version": "1.2.0",
      "model_name": "LayoutModel",
      "state": {
       "grid_template_areas": "\n                                       \". . . . right \"\n                                        ",
       "grid_template_columns": "20% 20% 20% 20% 20%",
       "width": "100%"
      }
     },
     "c8686e59c2214bf188eae227f86a78f2": {
      "model_module": "@jupyter-widgets/base",
      "model_module_version": "1.2.0",
      "model_name": "LayoutModel",
      "state": {
       "grid_area": "right",
       "padding": "0px 0px 0px 0px",
       "width": "70px"
      }
     },
     "ce5568d789dd41f495ea23f5c5687156": {
      "model_module": "@jupyter-widgets/output",
      "model_module_version": "1.0.0",
      "model_name": "OutputModel",
      "state": {
       "layout": "IPY_MODEL_d51f30a7d2f84933a2ec467c4fadcdd7",
       "outputs": [
        {
         "data": {
          "image/png": "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\n",
          "text/plain": "<Figure size 360x360 with 1 Axes>"
         },
         "metadata": {},
         "output_type": "display_data"
        }
       ]
      }
     },
     "d440771d473e4c8a9d595f12295b1302": {
      "model_module": "@jupyter-widgets/base",
      "model_module_version": "1.2.0",
      "model_name": "LayoutModel",
      "state": {
       "width": "190px"
      }
     },
     "d51f30a7d2f84933a2ec467c4fadcdd7": {
      "model_module": "@jupyter-widgets/base",
      "model_module_version": "1.2.0",
      "model_name": "LayoutModel",
      "state": {
       "align_items": "center",
       "display": "flex-inline",
       "grid_area": "right",
       "max_height": "325px",
       "padding": "10px 10px 10px 10px",
       "width": "auto"
      }
     },
     "d54207c3781c45819f4da6032f576599": {
      "model_module": "@jupyter-widgets/base",
      "model_module_version": "1.2.0",
      "model_name": "LayoutModel",
      "state": {
       "width": "190px"
      }
     },
     "d6fd1906459d42f6aa08c2687a1adfd4": {
      "model_module": "@jupyter-widgets/controls",
      "model_module_version": "1.5.0",
      "model_name": "HTMLModel",
      "state": {
       "layout": "IPY_MODEL_24d62679b4bf4e12853fce863379f446",
       "style": "IPY_MODEL_584d249f0a6645e184e213f963cd7ae4",
       "value": "8"
      }
     },
     "d8d30aac555e45ad8637a883d6591087": {
      "model_module": "@jupyter-widgets/controls",
      "model_module_version": "1.5.0",
      "model_name": "DescriptionStyleModel",
      "state": {
       "description_width": ""
      }
     },
     "dbbee07d07a14f419233b95a085daf98": {
      "model_module": "@jupyter-widgets/base",
      "model_module_version": "1.2.0",
      "model_name": "LayoutModel",
      "state": {
       "margin": "0px 0px 0px 35px",
       "width": "600px"
      }
     },
     "e055d89ead8947c59071023f55496535": {
      "model_module": "@jupyter-widgets/base",
      "model_module_version": "1.2.0",
      "model_name": "LayoutModel",
      "state": {
       "grid_area": "left"
      }
     },
     "e0b06be4697646288e4dc53f527d9a15": {
      "model_module": "@jupyter-widgets/base",
      "model_module_version": "1.2.0",
      "model_name": "LayoutModel",
      "state": {
       "margin": "0px 0px 0px 0px"
      }
     },
     "e85a88503db641f99ec28390534be42c": {
      "model_module": "@jupyter-widgets/controls",
      "model_module_version": "1.5.0",
      "model_name": "DescriptionStyleModel",
      "state": {
       "description_width": ""
      }
     },
     "eff5911361da43c4859ca2807456fc5d": {
      "model_module": "@jupyter-widgets/controls",
      "model_module_version": "1.5.0",
      "model_name": "HTMLModel",
      "state": {
       "layout": "IPY_MODEL_8fcabc865c5f418e8347c2523270d888",
       "style": "IPY_MODEL_2e84ad3c674341c4a529a1a8cf86cea6",
       "value": "<h5>Status</h5>"
      }
     },
     "f157551f44d149b59a0a350d0ea7cdbf": {
      "model_module": "@jupyter-widgets/output",
      "model_module_version": "1.0.0",
      "model_name": "OutputModel",
      "state": {
       "layout": "IPY_MODEL_f266b9839a854e06be5a852347ee1264",
       "outputs": [
        {
         "data": {
          "image/png": "iVBORw0KGgoAAAANSUhEUgAAAoUAAAIACAYAAAD0VBa/AAAABHNCSVQICAgIfAhkiAAAAAlwSFlzAAALEgAACxIB0t1+/AAAADh0RVh0U29mdHdhcmUAbWF0cGxvdGxpYiB2ZXJzaW9uMy4xLjEsIGh0dHA6Ly9tYXRwbG90bGliLm9yZy8QZhcZAAAgAElEQVR4nOzdeZhcVZ3/8fc3e0LYwiKi0GyioHZAgkpGCRgWQSJxVDBERRyRgfE3GiM64s6MzAhmojKIiDuECCaKLFEHgsZBYMYgJsomawxCgNAEyEqW8/vjVkOl052uqq711vv1PP2k+9a993yrO337U+eceypSSkiSJKm9DWp0AZIkSWo8Q6EkSZIMhZIkSTIUSpIkCUOhJEmSMBRKkiQJQ6EkSZIwFEqSJAlDoSRJkjAUSpIkCUOhJEmSMBRKkiQJQ6EkSZIwFEqSJAlDoSRJkjAUSpIkCUOhJEmSMBRKkiQJQ6EkSZIwFEqSJAlDoSRJkjAUSpIkCUOhJEmSMBRKkiQJQ6EkSZIwFEqSJAlDoSRJkjAUSpIkCUOhJEmSMBRKkiQJQ6EkSZIwFEqSJAlDoSRJkjAUSpIkCUOhJEmSMBRKkiQJQ6EkSZIwFEqSJAlDoSRJkjAUSpIkCUOhJEmSMBRKkiQJQ6EkSZIwFEqSJAlDoSRJkjAUSpIkCUOhJEmSMBRKkiQJQ6EkSZIwFEqSJAlDoSRJkjAUSpIkCUOhJEmSMBRKkiQJQ6EkSZIwFEqSJAlDoSRJkjAUSpIkCUOhJEmSMBRKkiQJQ6EkSZIwFEqSJAlDoSRJkjAUSpIkCUOhJEmSMBRKkiQJQ6EkSZIwFEqSJIkmC4UR8cWIuLzRddRbRMyOiMkVHDc8Iu6JiF1rUZckSWof/YbCiHg4ItZExMqIWBYRP4iI0fUorlIRcUREPNLPPj+IiOcLz6v7Y1G9aiyqoxMYC/y88PXYiLgzIpZHxLSi/YZGxP9GxB7d21JK64DvAZ+qd92SJClfSu0pnJRSGg0cBBwMfLp2JdXV+Sml0UUfY3vbKSKGlLJta7ay/xnArJRSKnz978AnyILiZyNit8L2jwNzU0pLexx/BXBqRAwvpx5JkqRiZQ0fp5SWAb8iC4fAC0OYX42Iv0bE4xHxrYgYWXhsx4i4LiKejIinC5+/vOjYvSNiQUQ8FxE3ADsXtxcRby/0mq2IiN9ExAFFj6WI2K/o6x9ExL9FxDbAL4Ddi3oAdy/neUbEXoXz/0NE/BW4qbdtJdT4cER8KiIWA6v6CIbHAQuKvt4buCml9DfgPmDPiNgTeCcws+fBKaVHgKeBN5bzHCVJkoqVFQoLge444P6izV8B9icLivsBLwM+X3T+7wMdwJ7AGuC/io69AridLAz+K3BqUVv7A7OBjwG7APOAayNi2NZqTCmtKtT4aFEP4KPlPM8iE4ADgGN721ZijVOAtwE7pJQ2FJ+8EGD3Bu4t2vxn4JjC93ov4AHgG8AnU0rr+6jzbrKeRUmSpIqUGgqvjojngKXAE8AXACIigNOBaSmlrpTSc8B5wHsAUkpPpZTmppRWFx77MlmootD7dSjwuZTSupTSb4Fri9o8Gbg+pXRDIQx9FRgJjB/YU97MJwo9fN0fP+zx+BdTSqtSSmv62FZKjd9IKS3tcY5uOxT+fa64JuBM4BpgGvB3hccfjIifF3pW393jPM8VnUuSJKlspc6Lm5xSujEiJpD17u0MrCDrHRsF3J7lQwACGAwQEaPIhjzfCuxYeHzbiBgM7A48XejZ67YE6L6RYvfC1wCklDZFxFKynshq+WpK6bNbebzn/L2e20qpsbdzdFtR+HdbYG3hHEuA4+GF798tZD2VFwJXAtcDf46I+SmlrqLjVyBJklShcucULgB+QNYjBrCcbEj41SmlHQof2xduSgGYDrwSeENKaTvg8ML2AB4DdiwMoXbbs+jzR8mGnbMDstS5B/C3wqbVZIG0225Fnyeqo7fzFG/rr8at1lIIxA+QDb/35vPAd1JKjwOvBRamlJ4BHiEbqu92AFD3O6clSVJ+VLJO4deAoyPioJTSJuBSYGb3WnkR8bKI6J6Dty1ZaFwREWMoDDvDCz1iC4EvRcSwiHgTMKmonauAt0XExIgYShYw15H1nAH8ETglIgZHxFspDEsXPA7sFBHbV/D8ytFfjaWYx+a1AxARBwJHABcXNj0EvCUiXgK8AvhrYb+XAWOA2yp8DpIkSeWHwpTSk8CPgM8VNn2K7MaT2yLiWeBGst5ByALkSLIexduAX/Y43SnAG4AussD4o6J27gXeSzZsupwsME5KKT1f2OWjhW0rgKnA1UXH3kN2A8iDhbmCfd19/Mke6xQuL/N70V+Npfg2MDWKxt8LLgI+mlLaWPj608A/A3cC5xXuBIfse/jDwpqFkiRJFYkXl8dTo0TEFcBVKaWr+9158+OGkw0bH55SeqImxUmSpLZgKJQkSVJzvfexJEmSGsNQKEmSJEOhJEmSSl+8eiDqPmlxypQpAMyePbveTQ9UzzuQJUmS6sKeQkmSJNXl7uO69xR2dWXv/jZmzJh6Nz1Q9hRKkqSGyGUobGGGQkmS1BC5HD6eM2cOc+bMaXQZkiRJLSOXoXDu3LnMnTu30WVIkiS1jFyGQkmSJJXHUChJkiRDoSRJkgyFkiRJIqdL0qxZswaAkSNH1rvpgXJJGkmS1BC5DIUtzFAoSZIaIpfDx5dddhmXXXZZo8uQJElqGbkMhfPmzWPevHmNLkOSJKll5DIUSpIkqTyGQkmSJDGk1g08eOMNAzp+n6OOrlIlkiRJ6os9hZIkSap9T2EjzJ49u9ElSJIktRR7CiVJkpTPnsJLL70UgNNPP73BlUhqRZPGTh0NHA0cCkwAdgOGAmuAO4HfArcAv7920SwX6JeUC7kMhTfddBNgKJRUnkljp74KmA5MBdYD2wCDe+y2P3AcsAFYPmns1POBH127aNaqetYqSdXm8LGktjdp7NRhk8ZOPQ/4A/ABYCSwHVsGwm4jgNHAXsAFwP2Txk6dUPtKJal2DIWS2tqksVM7gLuAj5KFwXJHULYhG17+xaSxU2dOGjvV66qkluTFS1LbmjR26r7AQrIev1EDPN1I4HTgMoOhpFaUywvXiBEjGDFiRKPLkNTEJo2duiNwMzCGvoeJy7UNcCLw1SqdT5LqJlKq7Y1zD954w4AaaLN3NIlGFyC1i0ljp14FTCKbH1hta4Bjr100639qcG5Jqolc9hRK0tZMGjv1BOBt1CYQQjaU/ONJY6eOrNH5JanqchkKL7zwQi688MJGlyGpeX2Vgc8h7M/2ZEvbSFJLyGUovOWWW7jlllsaXYakJjRp7NRDgZfXoaltgE9NGjvVaSGSWkIuF6+WpK04i2x4t19vn/pWjpo8gT33fTmDBw/iiovnMvtbPy2nrZcCY4E/VlCnJNVVLnsKJWkrJlDitW+/A/dm5TMrWb7sqUrbCuCNlR4sSfVkKJTUNiaNnTqCMoaO//MzF3POh77MQ/cuqbTJUcCbKj1Ykuopl8PHO+ywQ6NLkNSc9gbWAkPr2OZr69iWJFUsl6Hw4osvbnQJkprTSKC2i7P23qYkNT2HjyW1k/Vt0qYklS2XofD888/n/PPPb3QZkprPY9Ruweq+/K3O7UlSRXI5fHzHHXc0ugRJTejaRbOWTxo79Tlgp1L2P+YdR3Dgwa9k3wP2AuCNR47jJbvvwm2/Xshtv769lFOsBxZUWq8k1VPZPYURMSYifhYRqyJiSUScUovCJKlG/lDqjgce/Eomnng4u7x0ZwD2eVUHE088nL1f2VHqKdYAC8svUZLqr5KewouA54GXAAcB10fEopTSnVWtTJJq4/tkawdu29+OX/v8JXzt85cMpK0AfjOQE0hSvZTVUxgR2wDvBD6XUlqZUroZuAZ4Xy2Kk6Qa+Cn1uQP5eeDSaxfNWleHtiRpwModPt4f2JhS+kvRtkXAq4t3iogPR8TCiFg4+/rrB1pj2XbbbTd22223urcrqfkVQtrXgdU1bmoj8I0atyFJVVPu8PFo4Jke256hxzBMSunbwLcBHrzxhnqvCcbMmTPr3aSk1vLllNI/AKMiouonHxSxMaV07jWLZlX8ViiSVG/l9hSuBLbrsW074LnqlCNJtbdkxSP7Llv55PBUg1HkiGC7kSMGT3nDIQdfecbMXK7wICmfyg2FfwGGRMQriraNBZrqJpNzzz2Xc889t9FlSGpCnR0TDgRuen7j8zt1rV7BprSpaucOYMSQIUx81f4MijgJuNxgKKlVlBUKU0qryCZpnxsR20TE3wEnApfVorhK3X333dx9992NLkNSk+kOhGSrJ7Bq/Wq6Vj/NprSJlAbWazgoglHDhnHcaw9g5LAX3lr5ZAyGklpEJe9ochbZe3k+AcwGznQ5GknNrmcg7LZq/RoeX7l8GbCUym8+Wb3jqJE3Txr7akYNG9bzMYOhpJZQdihMKXWllCanlLZJKe2ZUrqiFoVJUrX0FQgL/vr8xufHF6bFfAVYQWnzpDeQLU59O/C2H9xy6ZuHDB58Vh/7GgwlNb1cvvexJHXrLxACRyxesuChaxfNWnftolnnArsCHyRbg/WxwYMHMXzEUEaMGMrw4UMYMmQQZPOoLwbGXbto1rhrF836DcDJl0y7mGw0pTcGQ0lNLQY6j6Y/A12SZp+jji77mHPOOQeA8847byBNN0L118aQ2lipgXBr53jktt+l555bw8YNGxk6bAg77bQtOx/0+q3+rl55xswzgW/29TDw3pMvmbahhKcgSXWTy1DYwgyFUpVUIxACdC1euMU1bEznuH5/Vw2GklqNw8eScqdagXAgHEqW1GpyGQrPOeecF4aQJbWXZgiE3QyGklpJLkPhQw89xEMP1eWaL6mJNFMg7GYwlNQqchkKJbWfZgyE3QyGklqBoVBSy2vmQNjNYCip2RkKJbW0VgiE3QyGkppZLkPhAQccwAEHHNDoMiTVWCsFwm4GQ0nNynUKm4vrFEolqlcgrHSdwv64jqGkZpPLnkJJ+daKPYQ92WMoqdnkMhROmzaNadOmNboMSTWQh0DYzWAoqZnkMhQuW7aMZcuWNboMSVWWp0DYzWAoqVnkMhRKyp88BsJuBkNJzcBQKKnp5TkQdjMYSmo0Q6GkptYOgbCbwVBSI+UyFB588MEcfPDBjS5D0gC1UyDsZjCU1Cg1X6cQqHkDOeI6hVJBswTCWq1T2B/XMZRUb7nsKZTU2polEDaSPYaS6i2XofDMM8/kzDPPbHQZkipgIHyRwVBSPeUyFK5YsYIVK1Y0ugxJZTIQbslgKKlechkKJbUeA2HfDIaS6sFQKKnhDIT9MxhKqjVDoaSGMhCWzmAoqZZyGQrHjx/P+PHjG12GpH4YCMtnMJRUK65T2Fxcp1Bto1UCYaPWKeyP6xhKqrZc9hRKam6tEgibmT2Gkqotl6HwtNNO47TTTmt0GZJ6YSCsHoOhpGrKZShcu3Yta9eubXQZknowEFafwVBSteQyFEpqPgbC2jEYSqqGml8kHrzxhlo3sYU1Tz/dsLbLsc9RRze6BKkuDIS1d/Il0y6+8oyZ0PvNJycDXHnGTG8+kdQnewol1ZSBsH7sMZQ0ELkMhW/sfC1v7Hxto8uQ2p6BsP4MhpIqlctQeNIxx3DSMcc0ugyprRkIG8dgKKkSuQyFkhrLQNh4BkNJ5cplKPz4V2fw8a/OaHQZUlsyEDYPg6GkcuQyFEpqDANh8zEYSiqVoVBSVRgIm5fBUFIpDIWSBqyzY8Ik4P8wEDatEoLhn688Y+bwOpYkqckYCiUNSCEQXg1s08vDBsIm0k8wfCXwF4Oh1L5yGQonjDuECeMOaXQZUu4VBcLeriUGwibUTzDcE4Oh1LZyGQpPPOIITjziiEaXIeVaZ8eE8fQdCJ/BQNi0CsHwo308vCfZULJzDKU2k8tQuHbd86xd93yjy5Byq3BTyU/p/RqyEZhkIGxuJ18y7RvAj/t4eD+8+URqO7kMhedceCHnXHhho8uQcqmfu4w3AkcuXrLgf+pblSpx8iXTptB3MPSuZKnN5DIUSqoNA2H+GAwldTMUSipJCesQvs5A2JoKwfATfT2MwVBqC4ZCSf0qcWHqxfWtStV08iXTZgD/1NfDGAyl3DMUStoq36mkfZx8ybRvYjCU2lYuQ+Gx4w/j2PGHNboMqeUZCNuPwVBqXzkNheM5dvz4RpchtTQDYfsyGErtKZeh8JnnVvLMcysbXYbUsgyEMhhK7SeXofBLl1zCly65pNFlSC3JQKhuBkOpvZQVCiPiIxGxMCLWRcQPalSTpAYxEKong6HUPsrtKXwU+DfgezWoRVIDGQjVF4Oh1B7KCoUppZ+mlK4GnqpRPZIawECo/hgMpfzL5ZxCSaUzEKpUBkMp32oSCiPiw4W5hwtnX399LZrYqkkTDmfShMPr3q7UagyEKpfBUMqvmoTClNK3U0rjUkrjprztbbVoYquOPPRQjjz00Lq3K7USA6EqZTCU8imXw8dPdHXxRFdXo8uQmpaBUANlMJTyp9wlaYZExAhgMDA4IkZERNP90v/H977Pf3zv+40uQ2pKBkJVi8FQypdyewo/C6wB/gV4b+Hzz1a7KEm1YSBUtRkMpfwod0maL6aUosfHF2tUm6QqMhCqVgyGUj7kck6hpM0ZCFVrBkOp9RkKpZwzEKpeDIZSa8tlKHz30Ufx7qOPanQZUsMZCFVvBkOpdeUyFB42diyHjR3b6DKkhjIQqlEMhlJrymUoXLpsGUuXLWt0GVLDGAjVaAZDqfXkMhTOvHwWMy+f1egypIYwEKpZGAyl1pLLUCi1KwOhmo3BUGodhkIpJwyEalYGQ6k1GAqlHDAQqtkZDKXmZyiUWpyBUK3CYCg1t1yGwqnHH8/U449vdBlSzRkI1WoMhlLzymUoPOTAAzjkwAMaXYZUUwZCtSqDodScchkK71+6lPuXLm10GVLNGAjV6gyGUvPJZSj85pVX8c0rr2p0GVJNGAiVFwZDqbnkMhRKeWUgVN4YDKXmYSiUWoSBUHllMJSag6FQagEGQuWdwVBqPEOh1OQMhGoXBkOpsXIZCv/hHZP5h3dMbnQZ0oAZCNVuDIZS40RKqdZt1LyBHIlGF6DmYSBsDl2LF25xDRvTOc7f1Rq78oyZZwEX9fUw8N6TL5m2oY4lSbmXy57C22+/ndtvv73RZUgVMxCq3dljKNVfLnsKp0yZAsDs2bPr3fRA2fuQE50dE0YAhwGHAIcDLwUGA6uAhcD/ArcsXrLgr70cayBssK7FC4cCbyT7+c3sZZf3AbeO6Rz3QF0La0OV9Bguufq6wcDrgXHAm4EOYCiwFvgTcCtwW8fkE+6pVd1SKzIUNhdDYYvr7JiwF/D/gNPJ/u8PL3wU2wSsBIaRBcTzgXmLlyzYaCBsrK7FC3cHziLroRpE9jMa0cuuzwFDgLuArwBXj+kct75edbabUoPhkquv24Xsd+9jZD+3IcDIHvsnshdng4CHyX5+V3VMPmFtDUqXWoqhsLkYCltUZ8eEIcBngE+R9QgOK+PwlcD9wDnA9zEQ1l3X4oWDgH8Gvkz28+sZ5LdmJfAY8O4xneMW1aA80X8wfP2x+904aFDMJPv59QyCW7MSWAGc1DH5hFsHWKbU0gyFzcVQ2II6OyZ0AL8E9gC2qfA0m+h7jq+BsIa6Fi/cFZgHvIrKf36JbGjyX4H/GNM5zhvsaqC3YDh4yCD2f91L2XaHERsGDR40kDmGawrn/lTH5BM2DaROqVXl8kYTqV46OybsRzYE/AoqDxRgIGyIwnDx7UAnA/v5BVnv1GeAr3UtXugLvBroefPJ4KGDeM1he7DtDiMYYCCE7Od3JnD5kquv82+j2lIuewrvuusuAA488MB6Nz1Q/iFpIZ0dE3YG/gzsQm1eYBkIa6hr8cLRwGKyHt5q3sW6CvjKmM5x/1rFc6rIlWfMPCuCi14zfk9GbjOUQYOr+uu3Gvhex+QT/l81Tyq1glyGwhZmKGwhnR0Tfg4cS3nzz0qVgLcsXrLgNzU4t4CuxQsvBaZS3vyzUq0B3jSmc9wfanBuAYsuvfIX2+448q2Dh9SkU281MKlj8gk31eLkUrPKZSi8+eabAXjTm95U76YHylDYIjo7Jvw98CMGNuS4NRuBRcChi5cscH5TlXUtXngEcD0wqkZNJOAh4IAxneOer1EbbWvJ1dcdBNxCbQJ9tyeAfTsmn7Cyhm1ITSWX8yYuuugiLrqor5vUpIHp7JgQwNeoXSCE7A7K/YFjathGO/satQuEkL3A2xV4dw3baGfn0/tSQdU0GvhQjduQmkouQ6FUY0cAO9ahndHAJ+vQTlvpWrywk+zGoFobTbZEkapoydXX7UG2IHWtR1ZGAZ9YcvV1juCobfgWQVL5PkoZvYTDhg/j4+ecyVtPOJJRo0dx95//wlf/9SL+9Me7Szn8sM6OCS9dvGTBYxVXq57OosR1JEe9rIOh24xm0NBhpJTYsHoVax5bysZ1Ja9zvG/X4oUHjukcd1fF1aqnf6CMQLjT68YyYpddGDxsKJs2bOT5FSt4+q57WP/Ms6Ucvh3wJuB/KqxVaik1D4UP3nhDRcftc9TRVa5Eqpq/o4w/Sp/8/Ec46b0nct89D/K/v/sDx046kksun8Hxb57Ciqef6e/w58nebu1nA6hXm3sLJV77Ruy0CxtWrWTdqi6Gbrsdw7bbniEjRrLi3j9BafOxEzCe7J1PVB3HUMbNXUNGjWLd8qfYtGE9I3bemZEv2ZWh247mb/9d0j0kIzAUqo04fCyVobNjwk5kvQclGbPTDrzjpOPZuHEjp58yjU/987lcf/WNjN52G6ac+o5STrENcGil9WpzXYsXDgP2KnX/Z++/m2cfuIfVf1vCcw/cC8CgYcMYPKLk+xu2IXsRoSooDOW+tpxjHr/5Vpbffgddi/7M8oXZzeCDR46EKOl13VBgQtmFSi0ql8PHX/7ylxtdgvLrVWTLjZQ0/Ljv/nszdNhQ/rb0MbqeWgHAXYvvYdLfH8MrD9yvlFMMBsZVWqy2sDfZO48MLWXnDatXvfhFIUSklNi0vqy3OT6onJ21VTtR4s+u2LZ778XQbUczYpedAXj2/gdL7ekFaLkFb6VK5TIU7rPPPo0uQflV1h2rO+2c3Y+yetWaF7atWZPNR9t5lzGlnmZ0OW1qq0ZRyTJZgwaxzR57A7D2ycdJG8oKhbW8S73djCJbrqm8g172UkbsvBMAG1avYd1TXeUcXuu7nKWmkcvh4/nz5zN//vxGl6F82lDOzk8tfxqAUdu8ONw4alT2+fInS/7DVFYC0VaV9fMDiMFD2G6fVzJ0m9GsfepJ1ix7pNxT+POrng1UcNfx4zffypJr5vHEbb9n8MgR7PL6Qxg8quQpAGWHUKlV5bKn8Dvf+Q4AEydObHAlyqEnKOPF1AP3Pcz659ez2+67MmbnHela/jSvHvsqAP5y9wOlnuZv5ZepPjxBGTcpDBo6jG332Z/Bw0ew5onHWLOsoh/F45UcpF51UcbwcQwaRNpUWPt90ybWPPEkacMGBg0dypBRo9i4es3WT5BZXlGlUgvKZSiUauheyggVXcuf5udzfsm7TpnEd674T+679yGOPeFIVq1czewf/rSUU6wGbq60WG1uTOe4x7sWL1xDiT/D7fZ7FYOGDmPj8+uIGMSol+4BwLoVXWxcs6qfo4GsZ+s3ldarzXVMPmHtkquve4QSbxYaNmZHdj7kYNY99RSb1q9n+E5jGDR0KBvXreP5Ff3e+Q/ZVAN//9Q2DIVSGRYvWbChs2PCX4DXlHrMV774DTZs2MAxbzuSt3S8jMV33MVX/+2bPN1V0h+lDcDtldarXt0BHFnKjoOGZvcTDR42nMG7vOSF7RvWri41FK4GFpZforbiNkoMhRvXrGXDqlWM2HUXBg0ZwsZ1z7Pqb4/yzD33kTaUNJNgFXDrAGqVWoqhUCrf5cAXKPF9V9ete57zPvc1zvvc1yppy1BYfZeRLfPT7w08XYsHnOcGAwsGehJt5grgbcC2/e24YdUqHr95QJluCPCLgZxAaiW5vNFEqrHvUvu32IJs6ZRvLF6yoOybI7RVV1Kfn9964EdjOseV1KWoks0D1tWhnU3ALzomn/BkHdqSmkIuQ+GMGTOYMWNGo8tQTi1esmA5MJfa/2HaBFxS4zbazpjOcauBb5OtN1lLG4CKuofVt47JJ2wELiAbmq+ltcB/1LgNqankMhTuvvvu7L777o0uQ/n2MWobKlYB5yxesmBZDdtoZ58DSprUWaHVwMwxneP+UsM22tnMTZvSsk2byl9yskRrgNkdk0/4v1o1IDWjXIbC6667juuuu67RZSjHCr2FH6Q2vRXrgXuAC2twbgGFId33UJtgvxF4DPhSDc4t4JKLf7fj1T9bnDZ1LzdTXQl4luyFn9RWchkKZ82axaxZsxpdhnJu8ZIFPyMbHqzmnLENwJPA2xYvWVCTv3jKjOkctwD4NNUN9huBFcBRYzrHPV/F86rgnGM/vSvw6yefWLnvgt88wPr1VV1bOgHPAUd1TD5hZTVPLLWCXIZCqY4+SxYMqxEs1pItVP2GxUsWuOBxHYzpHPd14Byq8/NbBzwFHDamc9zDVTifeugOhBTej/j++57kfxZULRiuJ5tSMKFj8gl/rsYJpVZjKJQGYPGSBWnxkgWfBU4Bnqbym09WAz8BOhcvWVD2+6ipcoVg+HaydzupdDh5NfBL4NVjOsfdV63a9KKegbDbffc9yfXX3rl644ZNj1N5uF8F/A54TcfkE/44sEql1mUolKpg8ZIFPwf2A2aT9fiV8sdpI9kfo3uAdyxesuD9i5cseLZ2VaovYzrHzSf7+X2PLBiWMiUgASuBh4H3jekcN3lM5zjfEq0G+gqEBc89/vhzEwcPGbQ32TzclYWP/nT//B4FzgLe0jH5BN9SUm0tUqrZ3VsAPHjjDRU1sM9RR1fc5pQpUwCYPXt2xedokHqsnaYa6+yYsCPwAeC9wAFkS8t0rzUYZIteLyNb1Pgbi5cs+H0DylQfuhYv3Jas5/eDvPjONeuLdhlF9n64N5OFkJvHdI6r7YW0jfUXCIFjzvvVv5uWBwEAACAASURBVN/WvWHJ1deNBE4CTgc6yRagLp7fOZJs3udtwH8B8zsmn+D8XYmchsKuri4AxowZU/E5GsRQmDOdHRMGAfsAu5D9cVoF3Lt4yQIXNG4BXYsXBtlbqr0EGErWi/iXMZ3j7NGtg3IDYU9Lrr4ugJcDuwPDyHrx7++YfMLTNShXanm5DIUtzFAoSQw8EEoqXy7nFM6ZM4c5c+Y0ugxJUgUMhFJj5DIUzp07l7lz5za6DElSmQyEUuOUFQojYnhEfDcilkTEcxFxR0QcV6viJEntw0AoNVa5PYVDgKXABGB7svcPvSoi9qpuWZKkdmIglBpvSDk7p5RWAV8s2nRdRDwEHEK2VpckSWUxEErNYUBzCiPiJcD+wJ09tn84IhZGxMLZ118/kCYkSTlmIJSaR8VL0kTEUOAXwAMppTP62q8RS9KsWZO9U9XIkSMrPkeDuCSNpLZhIJSaS1nDx90iYhBwGdkq8R+pakVV0IJhUJLaioFQaj5lh8KICOC7ZCv8H59SWt/PIXV32WWXAfC+972vwZVIknoyEErNqZI5hReTvZ/rpJTSmirXUxXz5s1j3rx5jS5DktSDgVBqXuWuU9gBnAEcBCyLiJWFj6k1qU6SlBsGQqm5lbskzRK8GUKSVCYDodT8cvk2d5Kk5mEglFqDoVCSVDMGQql1VLQkTbObPXt2o0uQpLZnIJRaiz2FkqSqMxBKrSeXofDSSy/l0ksvbXQZktSWDIRSa8plKLzpppu46aabGl2GJLUdA6HUunIZCiVJ9WcglFqboVCSNGAGQqn1GQolSQNiIJTyIZdL0owYMaLRJUhSWzAQSvmRy1D4/e9/v9ElSFLuGQilfHH4WJJUNgOhlD+5DIUXXnghF154YaPLkKRcMhBK+ZTLUHjLLbdwyy23NLoMScodA6GUX7kMhZKk6jMQSvlmKJQk9ctAKOWfoVCStFUGQqk95HJJmh122KHRJUhSLhgIpfaRy1B48cUXN7oESWp5BkKpvURKqdZt1LyBHIlGFyBJYCCU2lEu5xSef/75nH/++Y0uQ5JakoFQak+5HD6+4447Gl2CJLUkA6HUvnLZUyhJKp+BUGpvhkJJkoFQkqFQktrdOcd++kDgTxgIpbaWyzmFu+22W6NLkKSWUAiEfwCG9/KwgVBqIy5J01xckkZS3RgIJRUzFDYXQ6Gkujjn2E93APfSeyB8HphgIJTaSy7nFJ577rmce+65jS5DkppS4aaS6+k9EAKcZSCU2k8u5xTefffdjS5BkppSIRDeBLy6j10+dN6v/v27dSxJUpPIZU+hJGlLBkJJW1PznsIHb7yh4mP3OeroKlYiSe2rn0D4HDD1vF/9+7X1rUpSM8nl8LEk6UUlBELvMpaUz1C49957N7oESWoKBkJJpar5kjQP3nhDxQ204fCxS9JIqhoDoaRyeKOJJOWQgVBSuXIZCs855xzOOeecRpchSQ1hIJRUiVzOKXzooYcaXYIkNYSBUFKlctlTKEntyEAoaSAMhZKUAwZCSQNlKJSkFmcglFQNuZxTeMABBzS6BEmqCwOhpGpxncLm4jqFkkpmIJRUTQ4fS1ILMhBKqrZchsJp06Yxbdq0RpchSTVhIJRUC7mcU7hs2bJGlyBJNWEglFQruewplKQ8MhBKqiVDoSS1AAOhpFozFEpSkzMQSqqHXM4pPPjggxtdgiRVhYFQUr24TmFzcZ1CSS8wEEqqJ4ePJakJGQgl1VsuQ+GZZ57JmWee2egyJKkiBkJJjVB2KIyIyyPisYh4NiL+EhEfqkVhA7FixQpWrFjR6DIkqWwGQkmNUklP4b8De6WUtgPeDvxbRBxS3bIkqf0YCCU1UtmhMKV0Z0ppXfeXhY99q1qVJLUZA6GkRqtoTmFEfDMiVgP3AI8B86palSS1EQOhpGZQUShMKZ0FbAu8GfgpsK748Yj4cEQsjIiFs6+/fuBVlmn8+PGMHz++7u1KUrkMhJKaxYDXKYyIbwF3pZS+0dvjrlNYFtcplNqIgVBSM6nGkjRDcE6hJJXFQCip2ZQVCiNi14h4T0SMjojBEXEsMIXswtY0TjvtNE477bRGlyFJvTIQSmpG5b73cQLOBL5FFiiXAB9LKf282oUNxNq1axtdgiT1ykAoqVmVFQpTSk8CE2pUiyTlmoFQUjPL5dvcSVKzMRBKanaGQkmqMQOhpFZQ7pzClvCWt7yl0SVIEmAglNQ6chkKTz/99EaXIEkGQkktxeFjSaoBA6GkVpPLUDhlyhSmTJnS6DIktSkDoaRWlMvhY0kaiOkTzw7gVcAhwBuBvYChwErgDmAh8PsZ8y94quexBkJJrcpQKEkF0yeevT3wfuBsYAywCRjN5u9LPglYDYyYPvHsXwMXAL+eMf+CZCCU1MoMhZLaXqFncAovvlvTNlvZfSiwfeHzY4E3AXeffdQnzxo6ePAPMBBKalGGQkltrdA7eBXwd2w9DPYmyHoSX7cppf/bsHFjDBk8uOc+BkJJLSGXofD4449vdAmSWsD0iWePAX4H7A0MH8CpBgNsTAk2bqQoGBoIJbWMXIbC973vfY0uQVKTmz7x7BHAb4B9gGHVOm9RMDQQSmopuQyFa9asAWDkyJENrkRSE/s3YF+qGAi7bUwJNm06/fwbvmIglNQycrlO4Qc/+EE++MEPNroMSU1q+sSzDwXOAkbVqIlNGzdt+sz0iWdvMcFQkppVLkOhJPXj68CIGp5/ENk8xXfUsA1JqipDoaS2Mn3i2fsDB7H52oO1MBr4ZI3bkKSqMRRKajdnUcF86oOPPIgZ8y9gxvwLOPGst5d62GumTzx7v3LbkqRGMBRKajfHkC1AXbLtd96ev//oO9i4YWO5bW0kW9xakppeLu8+fuc739noEiQ1oekTzx4ClN1zN+VTJ/PsU8/y2EPLOPjIg8o5dDQwHvhBuW1KUr3VPBTuc9TRtW5iC+9617vq3qaklrAPsI4yegoPf+eb2fs1e/P1j1zI4e98cyVtjqvkIEmqt1wOH3d1ddHV1dXoMiQ1n22ATaXuvNteL+H4Dx3HL3/4Kx594NFK2xxd6YGSVE+5HD7+p3/6JwBmz57d4EokNZmyJgV2vrmTwUMGs2/nPuzz2r3ZfZ/dAXj1YQeyft165n33F6WcZkMFdUpS3eUyFEpSH5ZTzjuYBAwaNIgD3nDAZpt32n0nOg7sKPUsT5bcniQ1kKFQUjt5DFhPiQtX//ePbuC/f3TDC1+/55Mnc+ix4/jt3P/h59+8ppRTbAR+W0mhklRvuZxTKEm9mTH/ggQsqmOTq4Df17E9SaqYPYWS2s0VwMFkN52U5cfnX8mPz7+ynEOGAgvKbUeSGiGXoXDq1KmNLkFS87ocmFGHdjYAV82Yf8EzdWhLkgYsUkq1bqPmDeRIrd+LVRIwfeLZlwCnAsNr2Mxq4I0z5l/wpxq2IUlVk8s5hY8++iiPPlrxmmKS8u9fyOb71coa4PsGQkmtJJehcPr06UyfPr3RZUhqUjPmX/A08H6y3rxqS0AX8MkanFuSaiaXoVCS+jNj/gXXAzOpbo9hAp4Djp0x/4JaBE5JqhlDoaR29jng61Snx3AD8AwwYcb8C+6swvkkqa5qfvfxgzfe0P9OVbbm6af7bHufo46udzmSmlRh3cLPTJ949h+B75Atal36O568aBXwR+CUGfMv+GsVS5SkurGnUFLbmzH/gp8A+wHXAGvJbhQpxXNk8wc/DrzZQCipleVyncJ3H31Uo0uQ1GJmzL/gSeDd0yeevRvwYbIbUfYkC4iJbMmoRLYgdQJuB74GXDtj/gUbGlK0JFVRzdcpfPDGG5pqncImHz52nUKpiUyfePYI4LXAS8jC4BrgHmBJYehZknIjl6Fw6bJlAOyx225bPGYolCRJ2lIu5xTOvHwWMy+f1egyJEmSWkYuQ6EkSZLKYyiUJEmSoVCSJEmGQkmSJJHTdQqnHn98o0uQJElqKbkMhYcceECjS5AkSWopuRw+vn/pUu5furTRZUiSJLWMXIbCb155Fd+88qpGlyFJktQychkKJUmSVB5DoSRJkgyFkiRJMhRKkiSJnC5J8w/vmNzoEiRJklpKLkPhq/fdt9ElSJIktZRcDh/f+cAD3PnAA40uQ5IkqWXkMhR+92dX892fXd3oMiRJklpGRaEwIl4REWsj4vJqFyRJkqT6q7Sn8CLg99UsRJIkSY1TdiiMiPcAK4D51S9HkiRJjVBWKIyI7YBzgen97PfhiFgYEQtnX3/9QOqTJElSHZS7JM2/At9NKS2NiD53Sil9G/g2wIM33pAqL68yZ518Ur2blCRJamklh8KIOAg4Cji4duVUx3577NHoEiRJklpKOT2FRwB7AX8t9BKOBgZHxIEppddVv7TK3X7X3QAccuABDa5EkiSpNZQTCr8N/Ljo60+QhcQzq1lQNcyaNw8wFEqSJJWq5FCYUloNrO7+OiJWAmtTSk/WojBJkiTVT8XvfZxS+mIV65AkSVID5fJt7iRJklQeQ6EkSZIqHz5uZtPeO7XRJUiSJLWUXIbCPXbbrdElSJIktZRcDh/fumgRty5a1OgyJEmSWkYuewp/csONABw2dmyDK5EkSWoNuewplCRJUnkMhZIkSTIUSpIkyVAoSZIkcnqjyb988LRGlyBJktRSchkKdx0zptElSJIktZRcDh//+ve/59e//32jy5AkSWoZuewpvHbBbwE48tBDG1yJJElSa8hlT6EkSZLKYyiUJEmSoVCSJEmGQkmSJJHTG02+cMYZjS5BkiSppURKqdZt1LyBHIlGFyBJktpTLoeP58yZw5w5cxpdhiRJUsvIZSicO3cuc+fObXQZkiRJLSOXoVCSJEnlMRRKkiTJUChJkiRDoSRJksjpkjRr1qwBYOTIkfVueqBckkaSJDVELkNhCzMUSpKkhsjl8PFll13GZZdd1ugyJEmSWkYuQ+G8efOYN29eo8uQJElqGbkMhZIkSSqPoVCSJEmGQkmSJBkKJUmSRB2WpImID6eUvl3TRpqo3XK0Qo2SJKk91KOn8MN1aKOZ2i1HK9QoSZLagMPHkiRJMhRKkiSpPqGwUXPmWmGuXivUKEmS2kA93vtYkiRJTc7hY0mSJBkKJUmSNMBQGBFvjYh7I+L+iPiXXh4fHhFXFh7/34jYq+ixTxe23xsRx5bR5isj4o9FH89GxMd62e+IwuN3RsSCco6tRER8LyKeiIg/F207KCJuK7S1MCJe38exp0bEfYWPU4u2HxIRfyp8n74REVGNWiVJknqqeE5hRAwG/gIcDTwC/B6YklK6q2ifs4DOlNI/RsR7gHeklE6OiAOB2cDrgd2BG4H9U0obK6jhb8AbUkpLirbvANwCvDWl9NeI2DWl9EQpx1YqIg4HVgI/Sim9prDtv4GZKaVfRMTxwCdTSkf0OG4MsBAYByTgduCQlNLTEfF/wEeB24B5wDdSSr8YaK2SJEk9DaSn8PXA/SmlB1NKzwM/Bk7ssc+JwA8Ln88BJhZ6u04EfpxSWpdSegi4v3C+ck0EHugl1J0C/DSl9FeAnoGwn2MrklL6LdDVczOwXeHz7YFHezn0WOCGlFJXSulp4AbgrRHxUmC7lNKtKUvuPwImV6NWSZKknoYM4NiXAUuLvn4EeENf+6SUNkTEM8BOhe239Tj2ZRXU8B6yHsee9geGRsRvgG2Br6eUflTisdX0MeBXEfFVsgA+vpd9evs+vqzw8Ugv2yVJkqpuID2Fvc1v6zkW3dc+pRy79cYjhgFvB37Sy8NDgEOAt5H1xH0uIvYv8dhqOhOYllLaA5gGfLeXfWr2PZIkSSrVQELhI8AeRV+/nC2HR1/YJyKGkA2hdpV4bH+OA/6QUnq8j9p+mVJalVJaDvwWGFvisdV0KvDTwuc/ofch8r6+F48UPu+5XZIkqeoGEgp/D7wiIvYu9Ly9B7imxz7XkAUjgHcBNxXmx10DvKdwd/LewCuA/yuz/Sn0Pfz7c+DNETEkIkaRDWvfXeKx1fQoMKHw+VuA+3rZ51fAMRGxY0TsCBwD/Cql9BjwXES8sTAP8/1kz0uSJKnqKp5TWJgj+BGyUDMY+F5K6c6IOBdYmFK6hmy49LKIuJ+sh/A9hWPvjIirgLuADcA/lXPncSHoHQ2cUbTtHwvn/lZK6e6I+CWwGNgEfCel9Oe+jq2GiJgNHAHsHBGPAF8ATge+XuglXQt8uLDvOOAfU0ofSil1RcS/koVsgHNTSt03rJwJ/AAYCfyi8CFJklR1vs2dJEmSfEcTSZIkGQolSZKEoVCSJEkYCiVJkoShUJIkSRgKJUmShKFQkiRJGAolSZKEoVCSJEkYCiVJkoShUJIkSRgKJUmShKFQkiRJGAolSZKEoVCSJEkYCiVJkoShUJIkSRgK1Y+ImB0Rkys4bnhE3BMRu25lnx9ExPMR8fCAihQRcVRErIyITRFxVKPrkdScvKY3j4j4UkSsiogUEUMaXQ+0YSiMiId7/tGMiA9ExM2NqqlWCv/R9hvA8Z3AWODnha/HRsSdEbE8IqYV7Tc0Iv43Ivbo3pZSWgd8D/hUP82cn1Laq5e2fxARGyJi90rrr5eImFi4WK6OiF9HRMdW9t2rsM/qwjFHFT32gYjYWAh33R9HFB7bs8f2lYWf73SAlNKNKaXRwF9r/XylckTEKRGxsPB/9rGI+EVEvKnw2BcL/4/fXbT/kMK2vYq2jY+ImyLiuYh4JiKujYgDC49NLfqdWFN4YfTC70m9n28teU2vvYgYFhFzClkhdV+D+9h3eER8NyKWFP5v3hERx5V6rpTSF4BX1+zJVKDtQmGtRcTgUrb1c45+XzHU6VXFGcCslFIqfP3vwCfILiqfjYjdCts/DsxNKS3tcfwVwKkRMbycRiNiG+CdwDPA1EqLr4eI2Bn4KfA5YAywELhyK4fMBu4AdgI+A8yJiF2KHr81pTS66OM3ACmlvxZvB14LbALmVv1JSVUSER8HvgacB7wE2BP4JnBi0W5dwLl9XScj4jDgv8mCzO7A3sAi4HcRsU9KaVbR78VxwKM9flcG+hy8pr8o99f0gpuB9wLL+tlvCLAUmABsT/Z34KriFzRlnKspGApLEBGviogbIqIrIu6NiJOKHvtBRFwcEfMiYhVwZB/bto+IH0XEk4VXFZ+NiEGFc3wgIn4XETMjogv4Yi81fLHwiuPyiHgW+EBEvD4ibo2IFYVX4P8VEcMK+/+2cOiiwivmkwvbT4iIPxaOuaXwyrEvxwELir7eG7gppfQ34D5gz4jYk+yXfWbPg1NKjwBPA28s7Tv9gncCK4BzgVOLvge7F3oCxhRtO7jwKndoRAyOiBmFrx+KiI9E7bvl/x64M6X0k5TSWrKf3diIeFXPHSNif+B1wBdSSmtSSnOBPxWeb7neD/w2pfRwxZVLNRQR25P9Dv9TSumnKaVVKaX1KaVrU0pnF+36S+B5sj+cvTkf+FFK6esppedSSl0ppc8Ct9HLtbLE2rymZ7ym95BSej6l9LWU0s3Axn72XZVS+mJK6eGU0qaU0nXAQ8Ah5Z6rWRgK+1F4hXMD2SukXYEpwDcjorjL9xTgy8C2ZK8Kett2IdkriX3IXlW8Hzit6BxvAB4stPHlPso5EZgD7ADMIvtPNg3YGTgMmAicBZBSOrxwzNjCK+YrI+J1ZN3/Z5D1VF0CXNPbq77C894buLdo85+BYyLi5cBewAPAN4BPppTW91Hz3WSvQstxKlmP2o+BVxXqJqX0KHArm4eoU4A5hfZPJ7voHUQWvsqaN1O4qPb18S99HPZqsl4LCjWuIvu+9DYk8GrgwZTSc0XbFvXYt/uC+JeI+NxWLn7vB35Y8pOT6u8wYATws372S2Q9LF+IiKHFD0TEKGA88JNejrsKOLrcoryme03v55pesYh4CbA/cGe1z10v7RoKry7+z0E2nNGXE4CHU0rfTyltSCn9gWzI7l1F+/w8pfS7wiuFtT23AeuBk4FPF17pPgzMAN5XdI5HU0oXFtpY00ctt6aUri60syaldHtK6bbCMQ+TXRAmbOW5nA5cklL635TSxpTSD4F19P6qb4fCv8UB5hPAmcA1ZBeuvys8/mBE/DwiFkTR3KCi43egRIVXqUcCV6SUHgfmU/TKkuxCPqWwbwDvKWwDOAn4ekrpkZTS08B/lNouQEpph6189HWu0WRDIsWeIfvDUe6+vwVeQ/ZH5J1kz/PsHvsTEW8mG4qbU8rzkhpkJ2B5SmlDfzumlK4BngQ+1OOhMWR/px7r5bDHyMJTubymv8hrepUUXtDMAn6YUrqnmueup3YNhZOL/3NQeCXWhw7gDT1C5FRgt6J9es676LltZ2AYsKRo2xLgZf2cY2vnJCL2j4jrImJZYfjhPLZ+kewApvd4LnuQzdPpaUXh3xfCTUppSUrp+JTS68jm95xLdlH5Ktk8urcD/1k8FFA4fgWlex9wd0rpj4WvZwGnFPUgzAEOi2yy8uFkvQz/U3hsdzb/HpXyPR2olcB2PbZtx+YX3pL2TSk9mFJ6qPAH4k9k3993saVTyeb75GoSvXLnKWDnMob6Pks2z3ZE0banyebOvrSX/V8KLK+gLq/pBV7Tq6MwbeAysmkQH2lwOQPSrqGwHEuBBT1eYYxOKZ1ZtE/q5bjibcvJXlkW35W6J/C3fs6xtXMCXAzcA7wipbQdcA4QWzl+KfDlHs9lVEpp9hYNvTgMun8f5/o88J3CK7/XAgtTSs8AjwDFd8cdQNHwagneD+xTuCguA/6T7KJ4XKGuFWSTzk8iG2aYndILk6YfA15edK49KENseXdv8cc5fRx2J0VDKYUhmn3pffjgzsJzK+5FHNvHvpD9vDf7eUbESODdOHSs5ncrsJYSh/xSSjcA91P0Ir1wHbqV7P98TyeR9TqVy2t677ymV6DQu/ldstGbd6a+h91bgqGwf9cB+0fE+woTX4dGxKERcUCpJ0gpbSSb//LliNg2siVLPg5cPsDatgWeBVZGdmPDmT0ef5xsvku3S4F/jIg3RGabiHhbj5BSbB69DF1EthTEEWQXMMgm1r6lMJ/iFRSWRYmIl5EN/9xWypOJ7C7DfYHXk80hOYhsOPUKthxueD/ZEOsVRduvAj4aES+LiB3of+mEzaTN7/rt+XFeH4f9DHhNRLwzIkaQXVgX9zZ8kFL6C/BHsrlTIyLiHUAnhTuII+K4wveQws/zcxSWjijyDrJX6b8u57lJ9VYIFJ8HLoqIyRExqnD9PC4izu/jsM8An+yx7V/I7nj958L1c8eI+DeyOXdfqqA0r+k9eE3fou7hhes5wLDC9bqvcH4xWVCe1Ns0gTLP1XCGwn6k7KaAY8jmOTxKdlv5V4CybskH/h+wimzi8c1k//G/N8DyPkH2yuo5sotDz6VQvgj8sDCscFJKaSHZHJT/IhuWuR/4wFbO/21gai//gS8CPlq4MAJ8Gvhnsh6v81JK3bfen0I2v2Jdic/nVLJ5O39KKS3r/gC+DpxQNIRxDdmF6vGUUvEr1kvJXnEuJlv2ZR6wgcJdXxHxrYj4Vom1lCSl9CTZhezLZN/TN5D9X6GPNt8DjCvs+x/AuwrngGxS+eLI7m6cR7bUTc8L16lkd2KW0gshNVRK6T/JwtJnyeYMLiUbXru6j/1/B/xfj203A8eS3en/GNkw7cHAm1JK91VQk9d0r+n9uRdYQzYd4FeFzzsKbZ4TEb8ofN5BdpPPQcCyol7IqaWcqxmFf1u0NRFxBXBVSqnXi/hWjhtONsRweErpiT72uZRsgvHjKaV9B1zsluc/DvhWSqlpfwGrJSImkvU4DgeOTynZkyhpC17Tm0dEfIHsRdNwYJuiUN4whkLlRmG+3ZFkryxfQhaSbkspfayhhUmSyuY1vf4MhcqNyNY0WwC8iqyL/nqyIZFnG1qYJKlsXtPrz1AoSZIkbzSRJEmSoVCSJElAzd5Uutu2I8ekjZu613J88S74Fz6LXrYVfRVbPBgl7ddzry32js127+PcxeX11uqLO/W16FBsfpJe9+tZU2/7Re8Fb3m+iF6397UqUvTR6Jbn3fKn18e3psf3ZvMtWz7Wd3u9VLjZY30f08tRfX3ZV0FsUXovJ4itHf7i5r5O1FtNJX1Te//96X3fou/9lv+pSmyrr294KTUEi+66+1cppbf2cbTqzGsyW3mOvdfU235ek7d8rJbX5Jpfj/uqqc2uyTUPhRs3recVLz0kKyUGMaj7P28Eg2IQ8cIvTPb1i491bx/U4+u+9tv8fIMiXvjGlbrfoIhe9u3rHLH5OTZ7jM2OeWE/eh7DZjVs7bEX66DEc7y4X1bHizVFsNlz2ewcPdrpeVzxftHnY5tvLz5nb8+j+/PezrdFvT2PG9T/Oej5vAZtvS148WsGbVln9+dEbNF+8WNQ1FavNb94VY/uGgf1+Dr7Ib1wDD2+pwzqsV9RTWz1HAF91LH59uijrV7aKXrORd9Udhp7aCXvT6sa8ZrsNbkVr8m1vh6/0EabX5MdPpYkSZKhUJIkSYZCSZIkYSiUJEkShkJJkiRhKJQkSRKGQkmSJGEolCRJEoZCSZIkYSiUJEkShkJJkiRhKJQkSRKGQkmSJGEolCRJEoZCSZIkYSiUJEkSECml2jYQ8Utg55o20hg7A8sbXUQd+DzzpRHPc3lK6a11blN9aPFrcrv8nvalnZ9/Oz93qO7z7/OaXPNQmFcRsTClNK7RddSazzNf2uV5Kp/a/f9vOz//dn7uUL/n7/CxJEmSDIWSJEkyFA7Et/9/e3cfI1dVh3H8+9ClvJQoDTUq1LrlpUGJLVQDRUstqTFCYhYEQ7Xg6z9q/AMNoQYTDNAgMb40SLQaJFETKhbFrLakJgr4Am3A0tYWa62L0dUmwkpqmjbAtg9/nDPLZdjZHfbOnenO/D7JpPfOubM5T3937pw5997dTnegTSJnd+mVnKE79fr+28v5ezk7G+N1YgAABipJREFUtCl/XFMYQgghhBBipjCEEEIIIcSgcIykD0j6q6R9kr40TvsJku7L7Vsl9de1z5N0UNINhee+IGm3pF2S1ks6sfokjU01o6R+SYclbc+PdYXXzJT0fUl7Je2RdFX7Eo2vTC0lLZT0WK7bn+trJmlQ0q7qU0yuRD1XFWq5XdJRSedLOlnSxlzH3ZLuaHem0Jsk3SPpv43eW0ruzPvyTkmLC21HCvvyYPt63TpN5F+Vc++U9KikRYW2CY8Dx7omsg/k3NslPSFpaaGtF2q/XNKBQs6bC22tr73tnn8AM4C/A2cCM4EdwNvrtvkcsC4vrwTuq2v/GbABuCGvnwE8DZyU138KfGI6ZgT6gV0Nfu4twJq8fBwwZ7rWEugDdgKL8vppwIzC6z4E3Nvo/2K65Kzb5h3AUF4+Gbg0L88Efg9c1ums8ej+B7AMWDzBceZy4EFAwBJga6HtYKf734b87wZm5+XLavmbOQ4c648msp/Cy5e6LQT29FjtlwO/Guf5SmofM4XJhcA+20O2XwB+AgzUbTMA/DAv3w+skCQASVcAQ8Duutf0ASdJ6iN94P6nov43o1TGCXwK+CqA7aO2O/3LRcvkfD+w0/YOANsjto8ASDoF+CKwpg0ZmtGqen4EWA9g+5Dth/LyC8A2YG5F/Q9hjO3fAf+bYJMB4EdOtgCnSnpze3pXvcny237U9nN5dQsvvy+bOQ4c05rIftB5FATMArrqRogm9v1GKql9DAqTM4B/FdaH83PjbmN7FDgAnCZpFrCaNGM2xva/ga8D/wT2Awds/7qS3jdnyhlz23xJT0p6RNIlAJJOzW23SdomaYOkN1aWoDllci4ALGlzznNj4TW3Ad8ADlXV8deobD1rriEPCotybT8I/KZF/Q2hjIn29xPzacUt+Qt6t/s0adYUmjsOTHuSrpS0B9hImoio6ZXaXyxph6QHJZ2Xn6uk9jEoTMabDav/NtJom1uAb9k++IqNpdmkUft84HRglqRrW9DXqSqTcT8wz/YFpNmyeyW9jjQTOhf4o+3FwGOkgXAnlcnZBywFVuV/r5S0QtL5wNm2H2hpT8spkzM1ShcBh2y/4lqWPLO9HrjT9lDZjobQAhPty/Oc/tLDR4G1ks5qX7faS9KlpEHh6tpT42zWVTNpALYfsH0ucAXpC3pNL9R+G/BW24uAbwO/yM9XUvsYFCbDwFsK63N59anesW3yh+brSVO+FwFfk/QP4HrgJkmfB94HPG37GdsvAj8nXRfSKVPOaPt52yMAtv9Euo5hATBCmjmrDZY2kK6N6KQytRwGHrH9rO1DwCZSnouBd+Ya/wFYIOnhCjM0o0zOmpWMM0tI+n1Yf7O9tmW9DaGchvu77dq/Q8DDwAXt7lw7SFoI3A0M1I7HNHcc6Br5VOtZkubk9a6vve3/1yadbG8Cjs/5K6l9DAqTx4FzJM2XNJP0YVl/J9Mg8PG8fDXw23x9yyW2+233A2uB223fRTptvCTf0SlgBfCXdoRpYMoZJb1B0gwASWcC55BuTjDwS9KFsJAyPlVtjElNOSewGViYa9YHvBd4yvZ3bZ+ea7wU2Gt7eRuyTKRMTiQdB3yYdB3KGElrSIPH6yvsewiv1SDwsXQTspaQLsfZL2m2pBMA8gfle+j8MajlJM0jTSxcZ3tvoamZ48C0JunswvX7i0k3VYz0UO3fVMh/IWncNkJFte8r+wO6ge3RPLu3mXRHzz22d0u6FXjC9iDwA+DHkvaRZltWTvIzt0q6nzT1Owo8SQd/I3vJjMuAWyWNAkeAz9iuzTitzq9ZCzwDfLJ9qV6tTE7bz0n6JunNZmCT7Y0dCTKJFuyzy4Dh4ulhSXOBLwN7gG35OHSX7bvbEir0LEnrSV8u50gaBr4CHA9gex1p1v5yYB/p7ETtOPM24HuSjpI+LO+wPe0GBk3kv5l0PfB38vty1Pa7Gh0HOhBhyprIfhXpC8GLwGHgmjxZ0Su1vxr4bP78PQyszF/uK6l9/EWTEEIIIYQQp49DCCGEEEIMCkMIIYQQAjEoDCGEEEIIxKAwhBBCCCEQg8IQQgghhEAMCkMIIYQQAjEoDCGEEEIIxKAwhBBCCCEALwHi7U8cxTW5BwAAAABJRU5ErkJggg==\n",
          "text/plain": "<Figure size 792x648 with 5 Axes>"
         },
         "metadata": {},
         "output_type": "display_data"
        }
       ]
      }
     },
     "f266b9839a854e06be5a852347ee1264": {
      "model_module": "@jupyter-widgets/base",
      "model_module_version": "1.2.0",
      "model_name": "LayoutModel",
      "state": {
       "align_items": "center",
       "display": "flex-inline"
      }
     },
     "f3aa1f77561d4f8e9518ec09bf6f906a": {
      "model_module": "@jupyter-widgets/controls",
      "model_module_version": "1.5.0",
      "model_name": "HTMLModel",
      "state": {
       "layout": "IPY_MODEL_d54207c3781c45819f4da6032f576599",
       "style": "IPY_MODEL_b63d67e1f6fb445c8a197aa8d6768ccc",
       "value": "5df003fb11bc0b00129883a9"
      }
     },
     "fb81d28592764b79842a0fbdc3589b5e": {
      "model_module": "@jupyter-widgets/controls",
      "model_module_version": "1.5.0",
      "model_name": "DescriptionStyleModel",
      "state": {
       "description_width": ""
      }
     },
     "fc17a6e739834f78a44e5c70b9346d90": {
      "model_module": "@jupyter-widgets/controls",
      "model_module_version": "1.5.0",
      "model_name": "ButtonStyleModel",
      "state": {}
     }
    },
    "version_major": 2,
    "version_minor": 0
   }
  }
 },
 "nbformat": 4,
 "nbformat_minor": 2
}
