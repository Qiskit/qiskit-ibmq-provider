{
 "cells": [
  {
   "attachments": {
    "qiskit_header.png": {
     "image/png": "[encoded data removed]"
    }
   },
   "cell_type": "markdown",
   "metadata": {},
   "source": [
    "![qiskit_header.png](attachment:qiskit_header.png)"
   ]
  },
  {
   "cell_type": "markdown",
   "metadata": {},
   "source": [
    "# The IBM Quantum Experience Account"
   ]
  },
  {
   "cell_type": "markdown",
   "metadata": {},
   "source": [
    "In Qiskit we have an interface for backends and jobs that is useful for running circuits and extending to third-party backends. In this tutorial, we will review the core components of Qiskit’s base backend framework, using the IBM Quantum Experience (IQX) account as an example.\n",
    "\n",
    "The interface has four main components: the account, providers, backends, and jobs:\n",
    "\n",
    "- **account**: Gives access to one or more ‘providers’ based on the account's permissions.\n",
    "\n",
    "- **provider**: Provides access to quantum devices and simulators, collectively called ‘backends’, and additional services tailored to a specific backend instance.\n",
    "\n",
    "- **backend**: A quantum device or simulator capable of running quantum circuits or pulse schedules.\n",
    "\n",
    "- **job**: A local reference to a collection of quantum circuits or pulse schedules submitted to a given backend.\n",
    "\n",
    "<div class=\"alert alert-block alert-info\">\n",
    "<b>Note:</b> To run the sample code in this tutorial, you'll need to have an <a href=\"https://qiskit.org/documentation/install.html#access-ibm-quantum-systems\">IQX account</a> and have qiskit-ibmq-provider installed. qiskit-ibmq-provider is the interface for accessing IQX services and is automatically installed as part of Qiskit.</div>\n"
   ]
  },
  {
   "cell_type": "markdown",
   "metadata": {
    "ExecuteTime": {
     "end_time": "2019-08-10T11:26:18.728475Z",
     "start_time": "2019-08-10T11:26:18.724151Z"
    }
   },
   "source": [
    "## Table of contents\n",
    "\n",
    "1) [The Account](#account)\n",
    "\n",
    "\n",
    "2) [The Provider](#provider)\n",
    "\n",
    "\n",
    "3) [Backends](#backends)\n",
    "    \n",
    "    \n",
    "4) [Jobs](#jobs)\n",
    "\n",
    "\n",
    "5) [Updating from previous versions](#updating)"
   ]
  },
  {
   "cell_type": "markdown",
   "metadata": {},
   "source": [
    "## The Account <a name='account'></a>\n",
    "\n",
    "The Qiskit `IBMQ` account object is the local reference for accessing your IBM Quantum Experience account, and all of the providers, backends, etc, that are available to you.\n",
    "\n",
    "The `IBMQ` account has functions for handling administrative tasks. The credentials can be saved to disk, or used in a session and never saved.\n",
    "\n",
    "- `enable_account(TOKEN, HUB, GROUP, PROJECT)`: Enable your account in the current session and optionally specify a default provider to return.\n",
    "- `save_account(TOKEN, HUB, GROUP, PROJECT)`: Save your account to disk for future use and optionally specify a default provider to return when loading your account.\n",
    "- `load_account()`: Load account using stored credentials.\n",
    "- `disable_account()`: Disable your account in the current session.\n",
    "- `stored_account()`: List the account stored to disk.\n",
    "- `active_account()`: List the account currently in the session.\n",
    "- `delete_account()`: Delete the saved account from disk."
   ]
  },
  {
   "cell_type": "markdown",
   "metadata": {},
   "source": [
    "A provider offers access to quantum systems, simulators, and additional services. To see all the providers available with your IQX account:"
   ]
  },
  {
   "cell_type": "code",
   "execution_count": 1,
   "metadata": {
    "ExecuteTime": {
     "end_time": "2019-08-10T09:32:08.428757Z",
     "start_time": "2019-08-10T09:32:00.431046Z"
    }
   },
   "outputs": [
    {
     "data": {
      "text/plain": [
       "[<AccountProvider for IBMQ(hub='ibm-q', group='open', project='main')>,\n",
       " <AccountProvider for IBMQ(hub='ibm-q', group='test', project='default')>]"
      ]
     },
     "execution_count": 1,
     "metadata": {},
     "output_type": "execute_result"
    }
   ],
   "source": [
    "from qiskit import IBMQ\n",
    "\n",
    "# IBMQ.save_account(TOKEN)\n",
    "IBMQ.load_account() # Load account from disk\n",
    "IBMQ.providers()    # List all available providers"
   ]
  },
  {
   "cell_type": "markdown",
   "metadata": {},
   "source": [
    "where we have assumed that the user has stored their IQX account information locally ahead of time using `IBMQ.save_account(TOKEN)`. `TOKEN` here is the API token you obtain from your IQX account.\n",
    "\n",
    "<div class=\"alert alert-block alert-info\">\n",
    "<b>Note:</b> The use of `provider` instances is the default way of retrieving backends from Qiskit 0.11 onwards - if you have been using earlier versions of Qiskit, check the <a href=\"#updating\">\"Updating from previous versions\"</a> section for more detailed instructions on updating and using the different options.</div>\n",
    "</div>\n",
    "\n",
    "The above example shows two different providers. All `IBMQ` providers are specified by a `hub`, `group`, and `project`. The provider given by `hub='ibm-q', group='open', project='main'` is the provider that gives access to the public IBM Quantum devices available to all IQX users. The second is an example of a provider that is only unlocked for a specific set of users. Members of the IBM Q Network may see one or more providers (with names different than those shown above) depending on the access level granted to them."
   ]
  },
  {
   "cell_type": "markdown",
   "metadata": {},
   "source": [
    "To access a given provider one should use the `get_provider()` method of the `IBMQ` account, filtering by `hub`, `group`, or `project`:"
   ]
  },
  {
   "cell_type": "code",
   "execution_count": 2,
   "metadata": {
    "ExecuteTime": {
     "end_time": "2019-08-10T09:34:10.585597Z",
     "start_time": "2019-08-10T09:34:10.581126Z"
    }
   },
   "outputs": [
    {
     "data": {
      "text/plain": [
       "<AccountProvider for IBMQ(hub='ibm-q', group='open', project='main')>"
      ]
     },
     "execution_count": 2,
     "metadata": {},
     "output_type": "execute_result"
    }
   ],
   "source": [
    "IBMQ.get_provider(hub='ibm-q')"
   ]
  },
  {
   "cell_type": "code",
   "execution_count": 3,
   "metadata": {
    "ExecuteTime": {
     "end_time": "2019-08-10T09:34:32.437442Z",
     "start_time": "2019-08-10T09:34:32.432869Z"
    }
   },
   "outputs": [
    {
     "data": {
      "text/plain": [
       "<AccountProvider for IBMQ(hub='ibm-q', group='open', project='main')>"
      ]
     },
     "execution_count": 3,
     "metadata": {},
     "output_type": "execute_result"
    }
   ],
   "source": [
    "IBMQ.get_provider(group='open')"
   ]
  },
  {
   "cell_type": "markdown",
   "metadata": {},
   "source": [
    "Finally, as a convenience, calling `IBMQ.load_account()` or `IBMQ.enable_account()` will return the default public provider instance `<AccountProvider for IBMQ(hub='ibm-q', group='open', project='main')>`."
   ]
  },
  {
   "cell_type": "markdown",
   "metadata": {},
   "source": [
    "## The Provider <a name='provider'></a>\n",
    "\n",
    "All providers inherit from `qiskit.providers.BaseProvider` and implement the methods:\n",
    "\n",
    "- `backends()`: Returns all backend objects known to the provider.\n",
    "- `get_backend(NAME)`: Returns the named backend.\n",
    "\n",
    "Providers associated via your `IBMQ` account provide access to a group of different backends, such as those available through the open IBM Quantum Experience or the IBM Q Network.\n",
    "\n",
    "Using the public provider instance from above:"
   ]
  },
  {
   "cell_type": "code",
   "execution_count": 4,
   "metadata": {
    "ExecuteTime": {
     "end_time": "2019-08-10T09:36:23.193295Z",
     "start_time": "2019-08-10T09:36:22.760961Z"
    }
   },
   "outputs": [
    {
     "data": {
      "text/plain": [
       "[<IBMQSimulator('ibmq_qasm_simulator') from IBMQ(hub='ibm-q', group='open', project='main')>,\n",
       " <IBMQBackend('ibmqx2') from IBMQ(hub='ibm-q', group='open', project='main')>,\n",
       " <IBMQBackend('ibmq_armonk') from IBMQ(hub='ibm-q', group='open', project='main')>,\n",
       " <IBMQBackend('ibmq_santiago') from IBMQ(hub='ibm-q', group='open', project='main')>,\n",
       " <IBMQBackend('ibmq_bogota') from IBMQ(hub='ibm-q', group='open', project='main')>,\n",
       " <IBMQBackend('ibmq_lima') from IBMQ(hub='ibm-q', group='open', project='main')>,\n",
       " <IBMQBackend('ibmq_belem') from IBMQ(hub='ibm-q', group='open', project='main')>,\n",
       " <IBMQBackend('ibmq_quito') from IBMQ(hub='ibm-q', group='open', project='main')>,\n",
       " <IBMQSimulator('simulator_statevector') from IBMQ(hub='ibm-q', group='open', project='main')>,\n",
       " <IBMQSimulator('simulator_mps') from IBMQ(hub='ibm-q', group='open', project='main')>,\n",
       " <IBMQSimulator('simulator_extended_stabilizer') from IBMQ(hub='ibm-q', group='open', project='main')>,\n",
       " <IBMQSimulator('simulator_stabilizer') from IBMQ(hub='ibm-q', group='open', project='main')>,\n",
       " <IBMQBackend('ibmq_manila') from IBMQ(hub='ibm-q', group='open', project='main')>]"
      ]
     },
     "execution_count": 4,
     "metadata": {},
     "output_type": "execute_result"
    }
   ],
   "source": [
    "provider = IBMQ.get_provider(hub='ibm-q')\n",
    "provider.backends()"
   ]
  },
  {
   "cell_type": "markdown",
   "metadata": {},
   "source": [
    "Selecting a backend is done by name using the `get_backend(NAME)` method:"
   ]
  },
  {
   "cell_type": "code",
   "execution_count": 5,
   "metadata": {
    "ExecuteTime": {
     "end_time": "2019-08-10T09:37:09.637775Z",
     "start_time": "2019-08-10T09:37:09.633565Z"
    }
   },
   "outputs": [
    {
     "data": {
      "text/plain": [
       "<IBMQBackend('ibmq_armonk') from IBMQ(hub='ibm-q', group='open', project='main')>"
      ]
     },
     "execution_count": 5,
     "metadata": {},
     "output_type": "execute_result"
    }
   ],
   "source": [
    "backend = provider.get_backend('ibmq_armonk')\n",
    "backend"
   ]
  },
  {
   "cell_type": "markdown",
   "metadata": {},
   "source": [
    "### Filtering the Backends\n",
    "\n",
    "You may also optionally filter the set of returned backends, by passing arguments that query the backend’s `configuration`, `status`, or `properties`. The filters are passed by conditions and, for more general filters, you can make advanced functions using a lambda function.\n",
    "\n",
    "As a first example lets return only those backends that are real quantum devices, and that are currently operational:"
   ]
  },
  {
   "cell_type": "code",
   "execution_count": 6,
   "metadata": {
    "ExecuteTime": {
     "end_time": "2019-08-10T09:39:00.685464Z",
     "start_time": "2019-08-10T09:38:59.837398Z"
    }
   },
   "outputs": [
    {
     "data": {
      "text/plain": [
       "[<IBMQBackend('ibmqx2') from IBMQ(hub='ibm-q', group='open', project='main')>,\n",
       " <IBMQBackend('ibmq_armonk') from IBMQ(hub='ibm-q', group='open', project='main')>,\n",
       " <IBMQBackend('ibmq_santiago') from IBMQ(hub='ibm-q', group='open', project='main')>,\n",
       " <IBMQBackend('ibmq_bogota') from IBMQ(hub='ibm-q', group='open', project='main')>,\n",
       " <IBMQBackend('ibmq_lima') from IBMQ(hub='ibm-q', group='open', project='main')>,\n",
       " <IBMQBackend('ibmq_belem') from IBMQ(hub='ibm-q', group='open', project='main')>,\n",
       " <IBMQBackend('ibmq_quito') from IBMQ(hub='ibm-q', group='open', project='main')>,\n",
       " <IBMQBackend('ibmq_manila') from IBMQ(hub='ibm-q', group='open', project='main')>]"
      ]
     },
     "execution_count": 6,
     "metadata": {},
     "output_type": "execute_result"
    }
   ],
   "source": [
    "provider.backends(simulator=False, operational=True)"
   ]
  },
  {
   "cell_type": "markdown",
   "metadata": {},
   "source": [
    "You can also filter by the minimum number of qubits the backends must have:"
   ]
  },
  {
   "cell_type": "code",
   "execution_count": 7,
   "metadata": {
    "ExecuteTime": {
     "end_time": "2019-08-10T09:40:18.300155Z",
     "start_time": "2019-08-10T09:40:17.775145Z"
    }
   },
   "outputs": [
    {
     "data": {
      "text/plain": [
        "[<IBMQBackend('ibmqx2') from IBMQ(hub='ibm-q', group='open', project='main')>,\n",
        " <IBMQBackend('ibmq_santiago') from IBMQ(hub='ibm-q', group='open', project='main')>,\n",
        " <IBMQBackend('ibmq_bogota') from IBMQ(hub='ibm-q', group='open', project='main')>,\n",
        " <IBMQBackend('ibmq_lima') from IBMQ(hub='ibm-q', group='open', project='main')>,\n",
        " <IBMQBackend('ibmq_belem') from IBMQ(hub='ibm-q', group='open', project='main')>,\n",
        " <IBMQBackend('ibmq_quito') from IBMQ(hub='ibm-q', group='open', project='main')>,\n",
        " <IBMQBackend('ibmq_manila') from IBMQ(hub='ibm-q', group='open', project='main')>]"
      ]
     },
     "execution_count": 7,
     "metadata": {},
     "output_type": "execute_result"
    }
   ],
   "source": [
    "provider.backends(min_num_qubits=5, simulator=False, operational=True)"
   ]
  },
  {
   "cell_type": "markdown",
   "metadata": {},
   "source": [
    "Lastly, show the least busy 5 qubit device (in terms of the number of jobs pending in the queue)"
   ]
  },
  {
   "cell_type": "code",
   "execution_count": 8,
   "metadata": {
    "ExecuteTime": {
     "end_time": "2019-08-10T09:41:49.653822Z",
     "start_time": "2019-08-10T09:41:48.210193Z"
    }
   },
   "outputs": [
    {
     "name": "stdout",
     "output_type": "stream",
     "text": [
      "ibmq_belem\n"
     ]
    }
   ],
   "source": [
    "from qiskit.providers.ibmq import least_busy\n",
    "\n",
    "small_devices = provider.backends(min_num_qubits=5, simulator=False, operational=True)\n",
    "backend = least_busy(small_devices)\n",
    "print(backend)"
   ]
  },
  {
   "cell_type": "markdown",
   "metadata": {},
   "source": [
    "The above filters can be combined as desired."
   ]
  },
  {
   "cell_type": "markdown",
   "metadata": {},
   "source": [
    "## Backends <a name='backends'></a>"
   ]
  },
  {
   "cell_type": "markdown",
   "metadata": {},
   "source": [
    "Backends represent either a simulator or a real quantum computer, and are responsible for running quantum circuits and/or pulse schedules and returning results. They have a `run` method which takes in a `qobj` as input, the Qiskit API serialization format, and returns a `BaseJob` object. This object allows asynchronous running of jobs for retrieving results from a backend when the job is completed.\n",
    "\n",
    "\n",
    "At a minimum, backends use the following methods, inherited from `qiskit.providers.BaseBackend`:\n",
    "\n",
    "- `provider()`: Returns the provider of the backend.\n",
    "- `name()`: Returns the name of the backend.\n",
    "- `status()`: Returns the current status of the backend.\n",
    "- `configuration()`: Returns the backend configuration.\n",
    "- `properties()`: Returns the backend properties.\n",
    "- `run(QOBJ, **kwargs)`: Runs a qobj on the backend.\n"
   ]
  },
  {
   "cell_type": "markdown",
   "metadata": {},
   "source": [
    "The `qiskit-ibmq-provider`'s implementation of `BaseBackend` is [`IBMQBackend`](https://qiskit.org/documentation/stubs/qiskit.providers.ibmq.IBMQBackend.html#qiskit.providers.ibmq.IBMQBackend). It  accepts additional parameters to the `run()` method:\n",
    "\n",
    "- `job_name`: Custom name to be assigned to the job.\n",
    "- `job_share_level`: Allows sharing the job at different level.\n",
    "- `job_tags`: Tags to be assigned to the job.\n",
    "\n",
    "And supports additional methods:\n",
    "\n",
    "- `jobs()`: Returns a list of previous jobs executed on this backend through the current provider instance.\n",
    "- `retrieve_job(JOB_ID)`:  Returns a job by its job ID.\n",
    "- `defaults()`: Gives a data structure of typical default parameters, if applicable.\n",
    "- `job_limit()`: Returns the job limit for the backend.\n",
    "- `remaining_jobs_count()`: Returns the number of remaining jobs that could be submitted to the backend.\n",
    "- `active_jobs()`: Returns a list of unfinished jobs.\n",
    "\n",
    "Refer to the [`IBMQBackend`](https://qiskit.org/documentation/stubs/qiskit.providers.ibmq.IBMQBackend.html#qiskit.providers.ibmq.IBMQBackend) documentation for a complete list of methods."
   ]
  },
  {
   "cell_type": "markdown",
   "metadata": {},
   "source": [
    "Lets load up the least busy backend from the `small_devices` filtered above:"
   ]
  },
  {
   "cell_type": "code",
   "execution_count": 9,
   "metadata": {
    "ExecuteTime": {
     "end_time": "2019-08-10T11:07:57.819917Z",
     "start_time": "2019-08-10T11:07:56.480877Z"
    }
   },
   "outputs": [],
   "source": [
    "backend = least_busy(small_devices)"
   ]
  },
  {
   "cell_type": "markdown",
   "metadata": {},
   "source": [
    "Some examples using the different methods:"
   ]
  },
  {
   "cell_type": "code",
   "execution_count": 10,
   "metadata": {
    "ExecuteTime": {
     "end_time": "2019-08-10T11:08:14.218624Z",
     "start_time": "2019-08-10T11:08:14.214377Z"
    }
   },
   "outputs": [
    {
     "data": {
      "text/plain": [
       "<AccountProvider for IBMQ(hub='ibm-q', group='open', project='main')>"
      ]
     },
     "execution_count": 10,
     "metadata": {},
     "output_type": "execute_result"
    }
   ],
   "source": [
    "backend.provider()"
   ]
  },
  {
   "cell_type": "code",
   "execution_count": 11,
   "metadata": {
    "ExecuteTime": {
     "end_time": "2019-08-10T11:08:30.907490Z",
     "start_time": "2019-08-10T11:08:30.902985Z"
    }
   },
   "outputs": [
    {
     "data": {
      "text/plain": [
       "'ibmq_belem'"
      ]
     },
     "execution_count": 11,
     "metadata": {},
     "output_type": "execute_result"
    }
   ],
   "source": [
    "backend.name()"
   ]
  },
  {
   "cell_type": "code",
   "execution_count": 12,
   "metadata": {
    "ExecuteTime": {
     "end_time": "2019-08-10T11:09:31.014122Z",
     "start_time": "2019-08-10T11:09:30.529121Z"
    }
   },
   "outputs": [
    {
     "data": {
      "text/plain": [
       "{'backend_name': 'ibmq_belem',\n",
       " 'backend_version': '1.0.14',\n",
       " 'operational': True,\n",
       " 'pending_jobs': 3,\n",
       " 'status_msg': 'active'}"
      ]
     },
     "execution_count": 12,
     "metadata": {},
     "output_type": "execute_result"
    }
   ],
   "source": [
    "backend.status().to_dict()"
   ]
  },
  {
   "cell_type": "markdown",
   "metadata": {},
   "source": [
    "Here we see the name of the backend, the software version it is running, along with its operational status, number of jobs pending in the backends queue, and a more detailed status message.\n",
    "\n",
    "Next we look at the backend configuration and properties:"
   ]
  },
  {
   "cell_type": "code",
   "execution_count": 13,
   "metadata": {
    "ExecuteTime": {
     "end_time": "2019-08-10T11:10:52.506038Z",
     "start_time": "2019-08-10T11:10:52.502010Z"
    },
    "scrolled": true
   },
   "outputs": [
    {
     "data": {
      "text/plain": [
        "{'backend_name': 'ibmq_belem',\n",
        " 'backend_version': '1.0.14',\n",
        " 'n_qubits': 5,\n",
        " 'basis_gates': ['id', 'rz', 'sx', 'x', 'cx', 'reset'],\n",
        " 'gates': [{'name': 'id',\n",
        "   'parameters': [],\n",
        "   'qasm_def': 'gate id q { U(0, 0, 0) q; }',\n",
        "   'coupling_map': [[0], [1], [2], [3], [4]]},\n",
        "  {'name': 'rz',\n",
        "   'parameters': ['theta'],\n",
        "   'qasm_def': 'gate rz(theta) q { U(0, 0, theta) q; }',\n",
        "   'coupling_map': [[0], [1], [2], [3], [4]]},\n",
        "  {'name': 'sx',\n",
        "   'parameters': [],\n",
        "   'qasm_def': 'gate sx q { U(pi/2, 3*pi/2, pi/2) q; }',\n",
        "   'coupling_map': [[0], [1], [2], [3], [4]]},\n",
        "  {'name': 'x',\n",
        "   'parameters': [],\n",
        "   'qasm_def': 'gate x q { U(pi, 0, pi) q; }',\n",
        "   'coupling_map': [[0], [1], [2], [3], [4]]},\n",
        "  {'name': 'cx',\n",
        "   'parameters': [],\n",
        "   'qasm_def': 'gate cx q0, q1 { CX q0, q1; }',\n",
        "   'coupling_map': [[0, 1],\n",
        "    [1, 0],\n",
        "    [1, 2],\n",
        "    [1, 3],\n",
        "    [2, 1],\n",
        "    [3, 1],\n",
        "    [3, 4],\n",
        "    [4, 3]]},\n",
        "  {'name': 'reset', 'parameters': None, 'qasm_def': None}],\n",
        " 'local': False,\n",
        " 'simulator': False,\n",
        " 'conditional': False,\n",
        " 'open_pulse': False,\n",
        " 'memory': True,\n",
        " 'max_shots': 8192,\n",
        " 'coupling_map': [[0, 1],\n",
        "  [1, 0],\n",
        "  [1, 2],\n",
        "  [1, 3],\n",
        "  [2, 1],\n",
        "  [3, 1],\n",
        "  [3, 4],\n",
        "  [4, 3]],\n",
        " 'dynamic_reprate_enabled': True,\n",
        " 'supported_instructions': ['id',\n",
        "  'sx',\n",
        "  'shiftf',\n",
        "  'reset',\n",
        "  'cx',\n",
        "  'u1',\n",
        "  'u2',\n",
        "  'u3',\n",
        "  'play',\n",
        "  'delay',\n",
        "  'x',\n",
        "  'setf',\n",
        "  'acquire',\n",
        "  'measure',\n",
        "  'rz'],\n",
        " 'rep_delay_range': [0.0, 500.0],\n",
        " 'default_rep_delay': 250.0,\n",
        " 'max_experiments': 75,\n",
        " 'sample_name': 'family: Falcon, revision: 4, segment: T',\n",
        " 'n_registers': 1,\n",
        " 'credits_required': True,\n",
        " 'online_date': datetime.datetime(2021, 1, 8, 5, 0, tzinfo=tzutc()),\n",
        " 'description': '5 qubit device Belem',\n",
        " 'dt': 0.2222222222222222,\n",
        " 'dtm': 0.2222222222222222,\n",
        " 'processor_type': {'family': 'Falcon', 'revision': 4, 'segment': 'T'},\n",
        " 'acquisition_latency': [],\n",
        " 'allow_q_object': True,\n",
        " 'channels': {'acquire0': {'operates': {'qubits': [0]},\n",
        "   'purpose': 'acquire',\n",
        "   'type': 'acquire'},\n",
        "  'acquire1': {'operates': {'qubits': [1]},\n",
        "   'purpose': 'acquire',\n",
        "   'type': 'acquire'},\n",
        "  'acquire2': {'operates': {'qubits': [2]},\n",
        "   'purpose': 'acquire',\n",
        "   'type': 'acquire'},\n",
        "  'acquire3': {'operates': {'qubits': [3]},\n",
        "   'purpose': 'acquire',\n",
        "   'type': 'acquire'},\n",
        "  'acquire4': {'operates': {'qubits': [4]},\n",
        "   'purpose': 'acquire',\n",
        "   'type': 'acquire'},\n",
        "  'd0': {'operates': {'qubits': [0]}, 'purpose': 'drive', 'type': 'drive'},\n",
        "  'd1': {'operates': {'qubits': [1]}, 'purpose': 'drive', 'type': 'drive'},\n",
        "  'd2': {'operates': {'qubits': [2]}, 'purpose': 'drive', 'type': 'drive'},\n",
        "  'd3': {'operates': {'qubits': [3]}, 'purpose': 'drive', 'type': 'drive'},\n",
        "  'd4': {'operates': {'qubits': [4]}, 'purpose': 'drive', 'type': 'drive'},\n",
        "  'm0': {'operates': {'qubits': [0]}, 'purpose': 'measure', 'type': 'measure'},\n",
        "  'm1': {'operates': {'qubits': [1]}, 'purpose': 'measure', 'type': 'measure'},\n",
        "  'm2': {'operates': {'qubits': [2]}, 'purpose': 'measure', 'type': 'measure'},\n",
        "  'm3': {'operates': {'qubits': [3]}, 'purpose': 'measure', 'type': 'measure'},\n",
        "  'm4': {'operates': {'qubits': [4]}, 'purpose': 'measure', 'type': 'measure'},\n",
        "  'u0': {'operates': {'qubits': [0, 1]},\n",
        "   'purpose': 'cross-resonance',\n",
        "   'type': 'control'},\n",
        "  'u1': {'operates': {'qubits': [1, 0]},\n",
        "   'purpose': 'cross-resonance',\n",
        "   'type': 'control'},\n",
        "  'u2': {'operates': {'qubits': [1, 2]},\n",
        "   'purpose': 'cross-resonance',\n",
        "   'type': 'control'},\n",
        "  'u3': {'operates': {'qubits': [1, 3]},\n",
        "   'purpose': 'cross-resonance',\n",
        "   'type': 'control'},\n",
        "  'u4': {'operates': {'qubits': [2, 1]},\n",
        "   'purpose': 'cross-resonance',\n",
        "   'type': 'control'},\n",
        "  'u5': {'operates': {'qubits': [3, 1]},\n",
        "   'purpose': 'cross-resonance',\n",
        "   'type': 'control'},\n",
        "  'u6': {'operates': {'qubits': [3, 4]},\n",
        "   'purpose': 'cross-resonance',\n",
        "   'type': 'control'},\n",
        "  'u7': {'operates': {'qubits': [4, 3]},\n",
        "   'purpose': 'cross-resonance',\n",
        "   'type': 'control'}},\n",
        " 'conditional_latency': [],\n",
        " 'discriminators': ['linear_discriminator',\n",
        "  'quadratic_discriminator',\n",
        "  'hw_centroid'],\n",
        " 'hamiltonian': {'description': 'Qubits are modeled as Duffing oscillators. In this case, the system includes higher energy states, i.e. not just |0> and |1>. The Pauli operators are generalized via the following set of transformations:\\n\\n$(\\\\mathbb{I}-\\\\sigma_{i}^z)/2 \\\\rightarrow O_i \\\\equiv b^\\\\dagger_{i} b_{i}$,\\n\\n$\\\\sigma_{+} \\\\rightarrow b^\\\\dagger$,\\n\\n$\\\\sigma_{-} \\\\rightarrow b$,\\n\\n$\\\\sigma_{i}^X \\\\rightarrow b^\\\\dagger_{i} + b_{i}$.\\n\\nQubits are coupled through resonator buses. The provided Hamiltonian has been projected into the zero excitation subspace of the resonator buses leading to an effective qubit-qubit flip-flop interaction. The qubit resonance frequencies in the Hamiltonian are the cavity dressed frequencies and not exactly what is returned by the backend defaults, which also includes the dressing due to the qubit-qubit interactions.\\n\\nQuantities are returned in angular frequencies, with units 2*pi*GHz.\\n\\nWARNING: Currently not all system Hamiltonian information is available to the public, missing values have been replaced with 0.\\n',\n",
        "  'h_latex': '\\\\begin{align} \\\\mathcal{H}/\\\\hbar = & \\\\sum_{i=0}^{4}\\\\left(\\\\frac{\\\\omega_{q,i}}{2}(\\\\mathbb{I}-\\\\sigma_i^{z})+\\\\frac{\\\\Delta_{i}}{2}(O_i^2-O_i)+\\\\Omega_{d,i}D_i(t)\\\\sigma_i^{X}\\\\right) \\\\\\\\ & + J_{0,1}(\\\\sigma_{0}^{+}\\\\sigma_{1}^{-}+\\\\sigma_{0}^{-}\\\\sigma_{1}^{+}) + J_{1,2}(\\\\sigma_{1}^{+}\\\\sigma_{2}^{-}+\\\\sigma_{1}^{-}\\\\sigma_{2}^{+}) + J_{1,3}(\\\\sigma_{1}^{+}\\\\sigma_{3}^{-}+\\\\sigma_{1}^{-}\\\\sigma_{3}^{+}) + J_{3,4}(\\\\sigma_{3}^{+}\\\\sigma_{4}^{-}+\\\\sigma_{3}^{-}\\\\sigma_{4}^{+}) \\\\\\\\ & + \\\\Omega_{d,0}(U_{0}^{(0,1)}(t))\\\\sigma_{0}^{X} + \\\\Omega_{d,1}(U_{1}^{(1,0)}(t)+U_{3}^{(1,3)}(t)+U_{2}^{(1,2)}(t))\\\\sigma_{1}^{X} \\\\\\\\ & + \\\\Omega_{d,2}(U_{4}^{(2,1)}(t))\\\\sigma_{2}^{X} + \\\\Omega_{d,3}(U_{6}^{(3,4)}(t)+U_{5}^{(3,1)}(t))\\\\sigma_{3}^{X} \\\\\\\\ & + \\\\Omega_{d,4}(U_{7}^{(4,3)}(t))\\\\sigma_{4}^{X} \\\\\\\\ \\\\end{align}',\n",
        "  'h_str': ['_SUM[i,0,4,wq{i}/2*(I{i}-Z{i})]',\n",
        "   '_SUM[i,0,4,delta{i}/2*O{i}*O{i}]',\n",
        "   '_SUM[i,0,4,-delta{i}/2*O{i}]',\n",
        "   '_SUM[i,0,4,omegad{i}*X{i}||D{i}]',\n",
        "   'jq0q1*Sp0*Sm1',\n",
        "   'jq0q1*Sm0*Sp1',\n",
        "   'jq1q2*Sp1*Sm2',\n",
        "   'jq1q2*Sm1*Sp2',\n",
        "   'jq1q3*Sp1*Sm3',\n",
        "   'jq1q3*Sm1*Sp3',\n",
        "   'jq3q4*Sp3*Sm4',\n",
        "   'jq3q4*Sm3*Sp4',\n",
        "   'omegad1*X0||U0',\n",
        "   'omegad0*X1||U1',\n",
        "   'omegad3*X1||U3',\n",
        "   'omegad2*X1||U2',\n",
        "   'omegad1*X2||U4',\n",
        "   'omegad4*X3||U6',\n",
        "   'omegad1*X3||U5',\n",
        "   'omegad3*X4||U7'],\n",
        "  'osc': {},\n",
        "  'qub': {'0': 3, '1': 3, '2': 3, '3': 3, '4': 3},\n",
        "  'vars': {'delta0': -2.1119231275656283,\n",
        "   'delta1': -1.989081364755034,\n",
        "   'delta2': -2.0773937776320905,\n",
        "   'delta3': -2.096945401946966,\n",
        "   'delta4': -2.0819029355928373,\n",
        "   'jq0q1': 0.011772262300160973,\n",
        "   'jq1q2': 0.012605700949390706,\n",
        "   'jq1q3': 0.012591488659137172,\n",
        "   'jq3q4': 0.01051661912410011,\n",
        "   'omegad0': 0.8027253632102426,\n",
        "   'omegad1': 0.7994609296532756,\n",
        "   'omegad2': 1.9688450308371457,\n",
        "   'omegad3': 0.7721838249505281,\n",
        "   'omegad4': 0.6185844031359571,\n",
        "   'wq0': 31.98159911982912,\n",
        "   'wq1': 32.95737791154753,\n",
        "   'wq2': 33.68606633828003,\n",
        "   'wq3': 32.48696041179116,\n",
        "   'wq4': 33.039435267685114}},\n",
        " 'meas_kernels': ['hw_boxcar'],\n",
        " 'meas_levels': [1, 2],\n",
        " 'meas_lo_range': [[6.801661824e+18, 7.801661824e+18],\n",
        "  [6.893594461e+18, 7.893594461e+18],\n",
        "  [6.860214726e+18, 7.860214726e+18],\n",
        "  [6.803382327e+18, 7.803382327e+18],\n",
        "  [6.926310916e+18, 7.926310916e+18]],\n",
        " 'meas_map': [[0, 1, 2, 3, 4]],\n",
        " 'measure_esp_enabled': False,\n",
        " 'multi_meas_enabled': True,\n",
        " 'n_uchannels': 8,\n",
        " 'parametric_pulses': ['gaussian', 'gaussian_square', 'drag', 'constant'],\n",
        " 'quantum_volume': 16,\n",
        " 'qubit_channel_mapping': [['d0', 'm0', 'u1', 'u0'],\n",
        "  ['u4', 'd1', 'u2', 'u1', 'u3', 'm1', 'u5', 'u0'],\n",
        "  ['u2', 'd2', 'm2', 'u4'],\n",
        "  ['m3', 'u3', 'u7', 'd3', 'u5', 'u6'],\n",
        "  ['m4', 'd4', 'u6', 'u7']],\n",
        " 'qubit_lo_range': [[4.590029587904213e+18, 5.590029587904213e+18],\n",
        "  [4.745329605970436e+18, 5.745329605970436e+18],\n",
        "  [4.861303971058769e+18, 5.861303971058769e+18],\n",
        "  [4.670460335567279e+18, 5.670460335567279e+18],\n",
        "  [4.758389439816784e+18, 5.758389439816784e+18]],\n",
        " 'rep_times': [0.001],\n",
        " 'u_channel_lo': [[{'q': 1, 'scale': (1+0j)}],\n",
        "  [{'q': 0, 'scale': (1+0j)}],\n",
        "  [{'q': 2, 'scale': (1+0j)}],\n",
        "  [{'q': 3, 'scale': (1+0j)}],\n",
        "  [{'q': 1, 'scale': (1+0j)}],\n",
        "  [{'q': 1, 'scale': (1+0j)}],\n",
        "  [{'q': 4, 'scale': (1+0j)}],\n",
        "  [{'q': 3, 'scale': (1+0j)}]],\n",
        " 'uchannels_enabled': True,\n",
        " 'url': 'None',\n",
        " 'input_allowed': ['job'],\n",
        " 'allow_object_storage': True,\n",
        " 'pulse_num_channels': 9,\n",
        " 'pulse_num_qubits': 3}"
      ]
     },
     "execution_count": 13,
     "metadata": {},
     "output_type": "execute_result"
    }
   ],
   "source": [
    "backend.configuration().to_dict()"
   ]
  },
  {
   "cell_type": "markdown",
   "metadata": {},
   "source": [
    "The backend configuration provides some useful information via its attributes, such as `basis_gates`, `coupling_map`, `max_experiments`, `max_shots`, `quantum_volume`, and `simulator`. "
   ]
  },
  {
   "cell_type": "markdown",
   "metadata": {},
   "source": [
    "The backend properties contain data that was measured and reported. Let’s see what kind of information is reported for qubit 0.\n",
    "\n",
    "**Note:** The following example displays the properties of the `SX` gate. Each backend may have different basis gates which may not contain `SX`. "
   ]
  },
  {
   "cell_type": "code",
   "execution_count": 14,
   "metadata": {
    "ExecuteTime": {
     "end_time": "2019-08-10T11:11:08.272105Z",
     "start_time": "2019-08-10T11:11:08.267125Z"
    }
   },
   "outputs": [
    {
     "name": "stdout",
     "output_type": "stream",
     "text": [
      "Qubit 0 has a \n",
      "  - T1 time of 0.000118798578854076 microseconds\n",
      "  - T2 time of 8.30176098567665e-05 microseconds\n",
      "  - SX gate error of 0.0003355394204181594\n",
      "  - SX gate duration of 35.55555555555556 nanoseconds\n",
      "  - resonant frequency of 4.820326782885405 GHz\n"
     ]
    }
   ],
   "source": [
    "props = backend.properties()\n",
    "\n",
    "def describe_qubit(qubit, properties):\n",
    "    \"\"\"Print a string describing some of reported properties of the given qubit.\"\"\"\n",
    "\n",
    "    # Conversion factors from standard SI units\n",
    "    us = 1e6\n",
    "    ns = 1e9\n",
    "    GHz = 1e-9\n",
    "\n",
    "    print(f\"Qubit {qubit} has a \\n\"\n",
    "          f\"  - T1 time of {properties.t1(qubit)} microseconds\\n\"\n",
    "          f\"  - T2 time of {properties.t2(qubit)} microseconds\\n\"\n",
    "          f\"  - SX gate error of {properties.gate_error('sx', qubit)}\\n\"\n",
    "          f\"  - SX gate duration of {properties.gate_length('sx', qubit)*ns} nanoseconds\\n\"\n",
    "          f\"  - resonant frequency of {properties.frequency(qubit) * GHz} GHz\")\n",
    "\n",
    "describe_qubit(0, props)"
   ]
  },
  {
   "cell_type": "markdown",
   "metadata": {},
   "source": [
    "To see the last five jobs run on this backend:"
   ]
  },
  {
   "cell_type": "code",
   "execution_count": 15,
   "metadata": {
    "ExecuteTime": {
     "end_time": "2019-08-10T11:11:39.833317Z",
     "start_time": "2019-08-10T11:11:39.352617Z"
    }
   },
   "outputs": [
    {
     "name": "stdout",
     "output_type": "stream",
     "text": [
      "5fb48d2ae4314600192a1c2c JobStatus.DONE\n",
      "5fb48ce2c76d75001a2089a1 JobStatus.DONE\n",
      "5fb48ce103cb100019752e28 JobStatus.DONE\n",
      "5fb48c0de4314600192a1c1c JobStatus.DONE\n",
      "5fb48b8d130b8000199af33b JobStatus.DONE\n"
     ]
    }
   ],
   "source": [
    "ran_job = None\n",
    "for ran_job in backend.jobs(limit=5):\n",
    "    print(str(ran_job.job_id()) + \" \" + str(ran_job.status()))"
   ]
  },
  {
   "cell_type": "markdown",
   "metadata": {},
   "source": [
    "A `job` can be retrieved using the `retrieve_job(JOB_ID)` method:"
   ]
  },
  {
   "cell_type": "code",
   "execution_count": 16,
   "metadata": {
    "ExecuteTime": {
     "end_time": "2019-08-10T11:12:16.082047Z",
     "start_time": "2019-08-10T11:12:15.712249Z"
    }
   },
   "outputs": [],
   "source": [
    "if ran_job is not None:\n",
    "    job = backend.retrieve_job(ran_job.job_id())"
   ]
  },
  {
   "cell_type": "markdown",
   "metadata": {},
   "source": [
    "### Backend Service\n",
    "\n",
    "`qiskit-ibmq-provider` version `0.4` (`Qiskit` version `0.14`) introduced a new class \n",
    "[`IBMQBackendService`](https://qiskit.org/documentation/stubs/qiskit.providers.ibmq.IBMQBackendService.html#qiskit.providers.ibmq.IBMQBackendService). It provides generic backend related services for a provider without requiring a particular backend as input. The main methods it supports are:\n",
    "\n",
    "- `jobs()`: Returns a list of previously submitted jobs through the current provider instance.\n",
    "- `retrieve_job(JOB_ID)`:  Returns a job by its job ID.\n"
   ]
  },
  {
   "cell_type": "markdown",
   "metadata": {},
   "source": [
    "The backend service is defined as the `backend` attribute of a provider. All of the backends available to this provider are also attributes of the backend service, allowing the backend names to be autocompleted: "
   ]
  },
  {
   "cell_type": "code",
   "execution_count": 17,
   "metadata": {},
   "outputs": [
    {
     "data": {
      "text/plain": [
       "<IBMQBackend('ibmq_armonk') from IBMQ(hub='ibm-q', group='open', project='main')>"
      ]
     },
     "execution_count": 17,
     "metadata": {},
     "output_type": "execute_result"
    }
   ],
   "source": [
    "provider.backend.ibmq_armonk"
   ]
  },
  {
   "cell_type": "markdown",
   "metadata": {},
   "source": [
    "To see the last five jobs submitted through this provider, regardless of which backend they ran on:"
   ]
  },
  {
   "cell_type": "code",
   "execution_count": 18,
   "metadata": {},
   "outputs": [
    {
     "name": "stdout",
     "output_type": "stream",
     "text": [
      "5fdccad1c01fec001a47e018 JobStatus.QUEUED\n",
      "5fdcc5fad4445500193f0072 JobStatus.DONE\n",
      "5fdcc5f923da0f001acf6f67 JobStatus.DONE\n",
      "5fdcc5f9d4445500193f0071 JobStatus.DONE\n",
      "5fdcc41b23da0f001acf6f44 JobStatus.DONE\n"
     ]
    }
   ],
   "source": [
    "for ran_job in provider.backend.jobs(limit=5):\n",
    "    print(str(ran_job.job_id()) + \" \" + str(ran_job.status()))"
   ]
  },
  {
   "cell_type": "markdown",
   "metadata": {},
   "source": [
    "To retrieve a particular job:"
   ]
  },
  {
   "cell_type": "code",
   "execution_count": 19,
   "metadata": {},
   "outputs": [],
   "source": [
    "if ran_job is not None:\n",
    "    job = provider.backend.retrieve_job(ran_job.job_id())"
   ]
  },
  {
   "cell_type": "markdown",
   "metadata": {},
   "source": [
    "## Jobs <a name='jobs'></a>\n",
    "\n",
    "Job instances can be thought of as the “ticket” for a submitted job. They find out the execution state at a given point in time (for example, if the job is queued, running, or has failed), and also allow control over the job. They have the following methods:\n",
    "\n",
    "- `status()`: Returns the status of the job.\n",
    "- `backend()`: Returns the backend the job was run on.\n",
    "- `job_id()`: Gets the job_id.\n",
    "- `cancel()`: Cancels the job.\n",
    "- `result()`: Gets the results from the circuit run.\n",
    "\n",
    "Some of the methods that are only available to \"IBM Q Job\"([`IBMQJob`](https://qiskit.org/documentation/stubs/qiskit.providers.ibmq.job.IBMQJob.html#qiskit.providers.ibmq.job.IBMQJob)) include:\n",
    "\n",
    "- `creation_date()`: Gives the date at which the job was created.\n",
    "- `queue_info()`: Returns queue information for this job, including queue position, estimated start and end time, and dynamic priorities for the hub, group, and project.\n",
    "- `error_message()`: The error message of failed jobs, if any.\n",
    "- `name()`: Returns the name assigned to this job.\n",
    "- `properties()`: Returns the backend properties for this job.\n",
    "- `time_per_step()`: Returns the time spent for each step (job creation, validation, etc).\n",
    "\n",
    "Refer to the [`IBMQJob`](https://qiskit.org/documentation/stubs/qiskit.providers.ibmq.job.IBMQJob.html#qiskit.providers.ibmq.job.IBMQJob) documentation for a complete list of methods."
   ]
  },
  {
   "cell_type": "markdown",
   "metadata": {},
   "source": [
    "Now some examples. Let's start with submitting a job:"
   ]
  },
  {
   "cell_type": "code",
   "execution_count": 20,
   "metadata": {},
   "outputs": [],
   "source": [
    "from qiskit import *\n",
    "from qiskit.compiler import transpile, assemble"
   ]
  },
  {
   "cell_type": "code",
   "execution_count": 21,
   "metadata": {},
   "outputs": [
    {
     "data": {
      "text/plain": [
       "<qiskit.circuit.instructionset.InstructionSet at 0x14338efd0>"
      ]
     },
     "execution_count": 21,
     "metadata": {},
     "output_type": "execute_result"
    }
   ],
   "source": [
    "qr = QuantumRegister(3)\n",
    "cr = ClassicalRegister(3)\n",
    "circuit = QuantumCircuit(qr, cr)\n",
    "circuit.x(qr[0])\n",
    "circuit.x(qr[1])\n",
    "circuit.ccx(qr[0], qr[1], qr[2])\n",
    "circuit.cx(qr[0], qr[1])\n",
    "circuit.measure(qr, cr)"
   ]
  },
  {
   "cell_type": "markdown",
   "metadata": {},
   "source": [
    "You should first map the circuit using the transpile function and then send it to the backend:"
   ]
  },
  {
   "cell_type": "code",
   "execution_count": 22,
   "metadata": {},
   "outputs": [],
   "source": [
    "mapped_circuit = transpile(circuit, backend=backend)\n",
    "job = backend.run(mapped_circuit, shots=1024)"
   ]
  },
  {
   "cell_type": "markdown",
   "metadata": {},
   "source": [
    "The `status()` method returns the job status and a message:"
   ]
  },
  {
   "cell_type": "code",
   "execution_count": 23,
   "metadata": {
    "ExecuteTime": {
     "end_time": "2019-08-10T11:14:57.844723Z",
     "start_time": "2019-08-10T11:14:57.840769Z"
    }
   },
   "outputs": [
    {
     "data": {
      "text/plain": [
       "<JobStatus.VALIDATING: 'job is being validated'>"
      ]
     },
     "execution_count": 23,
     "metadata": {},
     "output_type": "execute_result"
    }
   ],
   "source": [
    "job.status()"
   ]
  },
  {
   "cell_type": "markdown",
   "metadata": {},
   "source": [
    "To get a backend object from the job, use the `backend()` method:"
   ]
  },
  {
   "cell_type": "code",
   "execution_count": 24,
   "metadata": {
    "ExecuteTime": {
     "end_time": "2019-08-10T11:15:02.835298Z",
     "start_time": "2019-08-10T11:15:02.831250Z"
    }
   },
   "outputs": [
    {
     "data": {
      "text/plain": [
       "<IBMQBackend('ibmq_belem') from IBMQ(hub='ibm-q', group='open', project='main')>"
      ]
     },
     "execution_count": 24,
     "metadata": {},
     "output_type": "execute_result"
    }
   ],
   "source": [
    "backend_temp = job.backend()\n",
    "backend_temp"
   ]
  },
  {
   "cell_type": "markdown",
   "metadata": {},
   "source": [
    "To get the job_id use the `job_id()` method:"
   ]
  },
  {
   "cell_type": "code",
   "execution_count": 25,
   "metadata": {
    "ExecuteTime": {
     "end_time": "2019-08-10T11:15:13.419833Z",
     "start_time": "2019-08-10T11:15:13.415394Z"
    }
   },
   "outputs": [
    {
     "data": {
      "text/plain": [
       "'5fdccb1ad4445500193f00db'"
      ]
     },
     "execution_count": 25,
     "metadata": {},
     "output_type": "execute_result"
    }
   ],
   "source": [
    "job.job_id()"
   ]
  },
  {
   "cell_type": "markdown",
   "metadata": {},
   "source": [
    "To get the result from the job, use the `result()` method:"
   ]
  },
  {
   "cell_type": "code",
   "execution_count": 26,
   "metadata": {
    "ExecuteTime": {
     "end_time": "2019-08-10T11:15:21.634977Z",
     "start_time": "2019-08-10T11:15:21.326797Z"
    }
   },
   "outputs": [
    {
     "name": "stdout",
     "output_type": "stream",
     "text": [
      "{'000': 24, '001': 53, '010': 28, '011': 56, '100': 26, '101': 801, '110': 13, '111': 23}\n"
     ]
    }
   ],
   "source": [
    "result = job.result()\n",
    "counts = result.get_counts()\n",
    "print(counts)"
   ]
  },
  {
   "cell_type": "markdown",
   "metadata": {},
   "source": [
    "If you want to check the creation date, use `creation_date()`:"
   ]
  },
  {
   "cell_type": "code",
   "execution_count": 27,
   "metadata": {
    "ExecuteTime": {
     "end_time": "2019-08-10T11:15:27.404142Z",
     "start_time": "2019-08-10T11:15:27.400446Z"
    }
   },
   "outputs": [
    {
     "data": {
      "text/plain": [
       "datetime.datetime(2020, 12, 18, 10, 30, 34, 565000, tzinfo=tzlocal())"
      ]
     },
     "execution_count": 27,
     "metadata": {},
     "output_type": "execute_result"
    }
   ],
   "source": [
    "job.creation_date()"
   ]
  },
  {
   "cell_type": "markdown",
   "metadata": {},
   "source": [
    "### Job Manager <a name='job manager'></a>\n",
    "\n",
    "\n",
    "The Job Manager is another convenience function provided by `qiskit-ibmq-provider`, available in version `0.4` (`Qiskit` version `0.14`) and up. It splits experiments into multiple jobs based on backend restrictions. When the jobs are finished, it collects and presents the results in a unified view.\n",
    "\n",
    "[`IBMQJobManager`](https://qiskit.org/documentation/stubs/qiskit.providers.ibmq.managed.IBMQJobManager.html#qiskit.providers.ibmq.managed.IBMQJobManager) has the following methods:\n",
    "- `run()`: Execute a set of circuits or pulse schedules.\n",
    "- `report()`: Return a report on the statuses of all jobs managed by this manager.\n",
    "- `job_sets()`: Return a list of managed job sets matching the specified filtering.\n",
    "\n",
    "You can run multiple sets of experiments by invoking `job_manager.run()` multiple times, and each call will return a [`ManagedJobSet`](https://qiskit.org/documentation/stubs/qiskit.providers.ibmq.managed.ManagedJobSet.html) instance. The `ManagedJobSet` methods allow you to apply operations on this set of jobs as a whole and are similiar to those of the Job class:\n",
    "- `statuses()`: Return the status of each job.\n",
    "- `cancel()`: Cancel all jobs in this set.\n",
    "- `results()`: Return the results of the jobs.\n",
    "- `error_messages()`: Provide details about job failures.\n",
    "- `jobs()`: Return a list of submitted jobs.\n",
    "- `report()`: Return a report on current job statuses."
   ]
  },
  {
   "cell_type": "markdown",
   "metadata": {},
   "source": [
    "Now let's see some examples. Say you want to submit a bunch of circuits to a backend:"
   ]
  },
  {
   "cell_type": "code",
   "execution_count": 28,
   "metadata": {},
   "outputs": [],
   "source": [
    "from qiskit.providers.ibmq.managed import IBMQJobManager\n",
    "\n",
    "sim_backend = provider.get_backend('ibmq_qasm_simulator')\n",
    "circs = transpile([circuit]*20, backend=sim_backend)\n",
    "\n",
    "# Submit them all to the backend\n",
    "job_manager = IBMQJobManager()\n",
    "job_set = job_manager.run(circs, backend=sim_backend, name='foo')"
   ]
  },
  {
   "cell_type": "markdown",
   "metadata": {},
   "source": [
    "You can use the `report()` method to inquire the statuses of the jobs:"
   ]
  },
  {
   "cell_type": "code",
   "execution_count": 29,
   "metadata": {},
   "outputs": [
    {
     "name": "stdout",
     "output_type": "stream",
     "text": [
      "Job set name: foo\n",
      "          ID: 2fa120072a5c4e36b8d8962447e0a735-1608305475658714\n",
      "        tags: []\n",
      "Summary report:\n",
      "       Total jobs: 1\n",
      "  Successful jobs: 0\n",
      "      Failed jobs: 0\n",
      "   Cancelled jobs: 0\n",
      "     Running jobs: 0\n",
      "     Pending jobs: 1\n",
      "\n",
      "Detail report:\n",
      "  experiments: 0-19\n",
      "    job index: 0\n",
      "    status: job is being initialized\n"
     ]
    }
   ],
   "source": [
    "print(job_set.report())"
   ]
  },
  {
   "cell_type": "markdown",
   "metadata": {},
   "source": [
    "`job_set` above is not very interesting, as it only contains a single job. To force multiple jobs without making this tutorial too slow, we can use the `max_experiments_per_job` parameter:"
   ]
  },
  {
   "cell_type": "code",
   "execution_count": 30,
   "metadata": {},
   "outputs": [],
   "source": [
    "# Restrict 10 experiments per job.\n",
    "job_set_multiple = job_manager.run(circs, backend=sim_backend, name='bar', max_experiments_per_job=10)"
   ]
  },
  {
   "cell_type": "code",
   "execution_count": 31,
   "metadata": {},
   "outputs": [
    {
     "name": "stdout",
     "output_type": "stream",
     "text": [
      "Job set name: bar\n",
      "          ID: a2f2bb71c2ca49d19c93e3582c0b42a1-1608305475723409\n",
      "        tags: []\n",
      "Summary report:\n",
      "       Total jobs: 2\n",
      "  Successful jobs: 0\n",
      "      Failed jobs: 0\n",
      "   Cancelled jobs: 0\n",
      "     Running jobs: 0\n",
      "     Pending jobs: 2\n",
      "\n",
      "Detail report:\n",
      "  experiments: 0-9\n",
      "    job index: 0\n",
      "    job ID: 5e7a7485626d3700121c113e\n",
      "    name: bar_0_\n",
      "    status: job is being validated\n",
      "  experiments: 10-19\n",
      "    job index: 1\n",
      "    job ID: 5e7a7485a80e6a00113a5e16\n",
      "    name: bar_1_\n",
      "    status: job is being validated\n"
     ]
    }
   ],
   "source": [
    "print(job_set_multiple.report())"
   ]
  },
  {
   "cell_type": "markdown",
   "metadata": {},
   "source": [
    "As you can see, `job_set_multiple` contains multiple jobs. To collect the results of all jobs, you can use the `results()` method, which returns a [`ManagedResults`](https://qiskit.org/documentation/stubs/qiskit.providers.ibmq.managed.ManagedResults.html) instance. `ManagedResults` supports the same methods as `Result`, which can be used to retrieve the ouputs of individual experiments:"
   ]
  },
  {
   "cell_type": "code",
   "execution_count": 32,
   "metadata": {},
   "outputs": [
    {
     "name": "stdout",
     "output_type": "stream",
     "text": [
      "This is the histogram data for experiment 5: {'101': 1024}\n",
      "This is the histogram data for experiment 15: {'101': 1024}\n"
     ]
    }
   ],
   "source": [
    "results = job_set_multiple.results()\n",
    "print(\"This is the histogram data for experiment 5: {}\".format(results.get_counts(5)))\n",
    "print(\"This is the histogram data for experiment 15: {}\".format(results.get_counts(15)))"
   ]
  },
  {
   "cell_type": "markdown",
   "metadata": {},
   "source": [
    "Similar to a job, each job set is assigned a unique ID. The job set ID along with the provider object can be used to retrive a previously submitted job set:"
   ]
  },
  {
   "cell_type": "code",
   "execution_count": 33,
   "metadata": {},
   "outputs": [
    {
     "name": "stdout",
     "output_type": "stream",
     "text": [
      "Job set name: bar\n",
      "          ID: a2f2bb71c2ca49d19c93e3582c0b42a1-1608305475723409\n",
      "        tags: []\n",
      "Summary report:\n",
      "       Total jobs: 2\n",
      "  Successful jobs: 2\n",
      "      Failed jobs: 0\n",
      "   Cancelled jobs: 0\n",
      "     Running jobs: 0\n",
      "     Pending jobs: 0\n",
      "\n",
      "Detail report:\n",
      "  experiments: 0-9\n",
      "    job index: 0\n",
      "    job ID: 5e7a7485626d3700121c113e\n",
      "    name: bar_0_\n",
      "    status: job has successfully run\n",
      "  experiments: 10-19\n",
      "    job index: 1\n",
      "    job ID: 5e7a7485a80e6a00113a5e16\n",
      "    name: bar_1_\n",
      "    status: job has successfully run\n"
     ]
    }
   ],
   "source": [
    "job_set_id = job_set_multiple.job_set_id()\n",
    "retrieved_job_set = job_manager.retrieve_job_set(job_set_id=job_set_id, provider=provider)\n",
    "print(retrieved_job_set.report())"
   ]
  },
  {
   "cell_type": "markdown",
   "metadata": {},
   "source": [
    "If you want to manipulate the jobs within a job set directly, you can use the `jobs()` method to retrive them. Note that an entry is `None` if that particular job could not be submitted:"
   ]
  },
  {
   "cell_type": "code",
   "execution_count": 34,
   "metadata": {},
   "outputs": [],
   "source": [
    "jobs = job_set_multiple.jobs()  # Get a list of all jobs in the set.\n",
    "job0 = jobs[0]\n",
    "if job0 is None:\n",
    "    print(\"Job0 submit failed!\")"
   ]
  },
  {
   "cell_type": "markdown",
   "metadata": {},
   "source": [
    "## Updating from previous versions <a name='updating'></a>\n",
    "\n",
    "Since `Qiskit` version `0.11`, the IBM Q account defaults to using the new [IBM Q Experience](https://quantum-computing.ibm.com), which supersedes the legacy Quantum Experience and Q-console.\n",
    "\n",
    "If you have credentials for the legacy Quantum Experience or Q-console stored in disk, you can make use of the `IBMQ.update_account()` helper function that converts legacy credentials to the new APIv2 format:"
   ]
  },
  {
   "cell_type": "code",
   "execution_count": 35,
   "metadata": {},
   "outputs": [],
   "source": [
    "# IBMQ.update_account()"
   ]
  },
  {
   "cell_type": "markdown",
   "metadata": {},
   "source": [
    "You can find more information on how to update your programs in the [README.md](https://github.com/Qiskit/qiskit-ibmq-provider/blob/master/README.md#updating-to-the-new-ibm-q-experience) file in the provider repository."
   ]
  },
  {
   "cell_type": "code",
   "execution_count": 36,
   "metadata": {
    "ExecuteTime": {
     "end_time": "2019-08-10T11:28:28.529479Z",
     "start_time": "2019-08-10T11:28:28.521774Z"
    }
   },
   "outputs": [
    {
     "data": {
      "text/html": [
        "<h3>Version Information</h3><table><tr><th>Qiskit Software</th><th>Version</th></tr><tr><td>Qiskit</td><td>0.27.0</td></tr><tr><td>Terra</td><td>0.17.4</td></tr><tr><td>Aer</td><td>0.8.2</td></tr><tr><td>Ignis</td><td>0.6.0</td></tr><tr><td>Aqua</td><td>0.9.2</td></tr><tr><td>IBM Q Provider</td><td>0.14.0</td></tr><tr><th>System information</th></tr><tr><td>Python</td><td>3.8.10 | packaged by conda-forge | (default, May 11 2021, 07:01:05) \n",
        "[GCC 9.3.0]</td></tr><tr><td>OS</td><td>Linux</td></tr><tr><td>CPUs</td><td>8</td></tr><tr><td>Memory (Gb)</td><td>31.40896224975586</td></tr><tr><td colspan='2'>Thu Jul 08 16:31:08 2021 UTC</td></tr></table>"
      ],
      "text/plain": [
       "<IPython.core.display.HTML object>"
      ]
     },
     "metadata": {},
     "output_type": "display_data"
    },
    {
     "data": {
      "text/html": [
       "<div style='width: 100%; background-color:#d5d9e0;padding-left: 10px; padding-bottom: 10px; padding-right: 10px; padding-top: 5px'><h3>This code is a part of Qiskit</h3><p>&copy; Copyright IBM 2017, 2020.</p><p>This code is licensed under the Apache License, Version 2.0. You may<br>obtain a copy of this license in the LICENSE.txt file in the root directory<br> of this source tree or at http://www.apache.org/licenses/LICENSE-2.0.<p>Any modifications or derivative works of this code must retain this<br>copyright notice, and modified files need to carry a notice indicating<br>that they have been altered from the originals.</p></div>"
      ],
      "text/plain": [
       "<IPython.core.display.HTML object>"
      ]
     },
     "metadata": {},
     "output_type": "display_data"
    }
   ],
   "source": [
    "import qiskit.tools.jupyter\n",
    "%qiskit_version_table\n",
    "%qiskit_copyright"
   ]
  },
  {
   "cell_type": "code",
   "execution_count": null,
   "metadata": {},
   "outputs": [],
   "source": []
  }
 ],
 "metadata": {
  "anaconda-cloud": {},
  "kernelspec": {
   "display_name": "Python 3",
   "language": "python",
   "name": "python3"
  },
  "language_info": {
   "codemirror_mode": {
    "name": "ipython",
    "version": 3
   },
   "file_extension": ".py",
   "mimetype": "text/x-python",
   "name": "python",
   "nbconvert_exporter": "python",
   "pygments_lexer": "ipython3",
   "version": "3.6.5"
  },
  "varInspector": {
   "cols": {
    "lenName": 16,
    "lenType": 16,
    "lenVar": 40
   },
   "kernels_config": {
    "python": {
     "delete_cmd_postfix": "",
     "delete_cmd_prefix": "del ",
     "library": "var_list.py",
     "varRefreshCmd": "print(var_dic_list())"
    },
    "r": {
     "delete_cmd_postfix": ") ",
     "delete_cmd_prefix": "rm(",
     "library": "var_list.r",
     "varRefreshCmd": "cat(var_dic_list()) "
    }
   },
   "types_to_exclude": [
    "module",
    "function",
    "builtin_function_or_method",
    "instance",
    "_Feature"
   ],
   "window_display": false
  }
 },
 "nbformat": 4,
 "nbformat_minor": 2
}
